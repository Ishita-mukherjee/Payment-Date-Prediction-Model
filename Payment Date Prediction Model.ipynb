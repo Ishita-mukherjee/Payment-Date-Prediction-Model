{
  "nbformat": 4,
  "nbformat_minor": 0,
  "metadata": {
    "colab": {
      "name": "H2HBABBA1483.ipynb",
      "provenance": [],
      "collapsed_sections": []
    },
    "kernelspec": {
      "display_name": "Python 3",
      "language": "python",
      "name": "python3"
    },
    "language_info": {
      "codemirror_mode": {
        "name": "ipython",
        "version": 3
      },
      "file_extension": ".py",
      "mimetype": "text/x-python",
      "name": "python",
      "nbconvert_exporter": "python",
      "pygments_lexer": "ipython3",
      "version": "3.7.3"
    }
  },
  "cells": [
    {
      "cell_type": "markdown",
      "metadata": {
        "id": "_vWR8SGfo9IQ"
      },
      "source": [
        "# Basic Preprocessing\n",
        "\n",
        "### Importing the libraries"
      ]
    },
    {
      "cell_type": "code",
      "metadata": {
        "id": "9Vg1heyUo9IT"
      },
      "source": [
        "import numpy as np\n",
        "import pandas as pd\n",
        "import matplotlib.pyplot as plt\n",
        "import seaborn as sns\n",
        "from sklearn.feature_selection import VarianceThreshold\n",
        "import warnings\n",
        "warnings.filterwarnings('ignore')"
      ],
      "execution_count": 1,
      "outputs": []
    },
    {
      "cell_type": "markdown",
      "metadata": {
        "id": "ciZSYo4mGckx"
      },
      "source": [
        "### Reading the csv file"
      ]
    },
    {
      "cell_type": "code",
      "metadata": {
        "id": "q05WS7cqo9IV"
      },
      "source": [
        "df=pd.read_csv(r\"H2HBABBA1483.csv\")"
      ],
      "execution_count": 2,
      "outputs": []
    },
    {
      "cell_type": "markdown",
      "metadata": {
        "id": "eZqeVoT6Gcky"
      },
      "source": [
        "### Getting insight about the data"
      ]
    },
    {
      "cell_type": "code",
      "metadata": {
        "colab": {
          "base_uri": "https://localhost:8080/",
          "height": 313
        },
        "id": "NCxS3sUko9IW",
        "outputId": "e09d5469-03b1-425d-aea9-5eabcc5ccd46"
      },
      "source": [
        "#printing the first few values\n",
        "df.head()"
      ],
      "execution_count": 3,
      "outputs": [
        {
          "output_type": "execute_result",
          "data": {
            "text/html": [
              "<div>\n",
              "<style scoped>\n",
              "    .dataframe tbody tr th:only-of-type {\n",
              "        vertical-align: middle;\n",
              "    }\n",
              "\n",
              "    .dataframe tbody tr th {\n",
              "        vertical-align: top;\n",
              "    }\n",
              "\n",
              "    .dataframe thead th {\n",
              "        text-align: right;\n",
              "    }\n",
              "</style>\n",
              "<table border=\"1\" class=\"dataframe\">\n",
              "  <thead>\n",
              "    <tr style=\"text-align: right;\">\n",
              "      <th></th>\n",
              "      <th>business_code</th>\n",
              "      <th>cust_number</th>\n",
              "      <th>name_customer</th>\n",
              "      <th>clear_date</th>\n",
              "      <th>buisness_year</th>\n",
              "      <th>doc_id</th>\n",
              "      <th>posting_date</th>\n",
              "      <th>document_create_date</th>\n",
              "      <th>document_create_date.1</th>\n",
              "      <th>due_in_date</th>\n",
              "      <th>invoice_currency</th>\n",
              "      <th>document type</th>\n",
              "      <th>posting_id</th>\n",
              "      <th>area_business</th>\n",
              "      <th>total_open_amount</th>\n",
              "      <th>baseline_create_date</th>\n",
              "      <th>cust_payment_terms</th>\n",
              "      <th>invoice_id</th>\n",
              "      <th>isOpen</th>\n",
              "    </tr>\n",
              "  </thead>\n",
              "  <tbody>\n",
              "    <tr>\n",
              "      <th>0</th>\n",
              "      <td>U001</td>\n",
              "      <td>0200726979</td>\n",
              "      <td>BJ'S  co</td>\n",
              "      <td>2019-05-16 00:00:00</td>\n",
              "      <td>2019.0</td>\n",
              "      <td>1.929236e+09</td>\n",
              "      <td>2019-04-30</td>\n",
              "      <td>20190430</td>\n",
              "      <td>20190430</td>\n",
              "      <td>20190515.0</td>\n",
              "      <td>USD</td>\n",
              "      <td>RV</td>\n",
              "      <td>1.0</td>\n",
              "      <td>NaN</td>\n",
              "      <td>223.08</td>\n",
              "      <td>20190430.0</td>\n",
              "      <td>NAA8</td>\n",
              "      <td>1.929236e+09</td>\n",
              "      <td>0</td>\n",
              "    </tr>\n",
              "    <tr>\n",
              "      <th>1</th>\n",
              "      <td>U001</td>\n",
              "      <td>0200152991</td>\n",
              "      <td>JET us</td>\n",
              "      <td>2019-11-13 00:00:00</td>\n",
              "      <td>2019.0</td>\n",
              "      <td>1.930064e+09</td>\n",
              "      <td>2019-10-29</td>\n",
              "      <td>20191028</td>\n",
              "      <td>20191029</td>\n",
              "      <td>20191113.0</td>\n",
              "      <td>USD</td>\n",
              "      <td>RV</td>\n",
              "      <td>1.0</td>\n",
              "      <td>NaN</td>\n",
              "      <td>715.41</td>\n",
              "      <td>20191029.0</td>\n",
              "      <td>NAA8</td>\n",
              "      <td>1.930064e+09</td>\n",
              "      <td>0</td>\n",
              "    </tr>\n",
              "    <tr>\n",
              "      <th>2</th>\n",
              "      <td>U001</td>\n",
              "      <td>0200707822</td>\n",
              "      <td>PUBLI corp</td>\n",
              "      <td>2019-12-09 00:00:00</td>\n",
              "      <td>2019.0</td>\n",
              "      <td>1.930173e+09</td>\n",
              "      <td>2019-11-22</td>\n",
              "      <td>20191120</td>\n",
              "      <td>20191122</td>\n",
              "      <td>20191207.0</td>\n",
              "      <td>USD</td>\n",
              "      <td>RV</td>\n",
              "      <td>1.0</td>\n",
              "      <td>NaN</td>\n",
              "      <td>90655.58</td>\n",
              "      <td>20191122.0</td>\n",
              "      <td>NAA8</td>\n",
              "      <td>1.930173e+09</td>\n",
              "      <td>0</td>\n",
              "    </tr>\n",
              "    <tr>\n",
              "      <th>3</th>\n",
              "      <td>U001</td>\n",
              "      <td>0200769623</td>\n",
              "      <td>WAL-MAR in</td>\n",
              "      <td>NaN</td>\n",
              "      <td>2020.0</td>\n",
              "      <td>1.930638e+09</td>\n",
              "      <td>2020-03-11</td>\n",
              "      <td>20200311</td>\n",
              "      <td>20200311</td>\n",
              "      <td>20200326.0</td>\n",
              "      <td>USD</td>\n",
              "      <td>RV</td>\n",
              "      <td>1.0</td>\n",
              "      <td>NaN</td>\n",
              "      <td>50124.60</td>\n",
              "      <td>20200311.0</td>\n",
              "      <td>NAH4</td>\n",
              "      <td>1.930638e+09</td>\n",
              "      <td>1</td>\n",
              "    </tr>\n",
              "    <tr>\n",
              "      <th>4</th>\n",
              "      <td>U001</td>\n",
              "      <td>0200769623</td>\n",
              "      <td>WAL-MAR co</td>\n",
              "      <td>2019-09-23 00:00:00</td>\n",
              "      <td>2019.0</td>\n",
              "      <td>1.929849e+09</td>\n",
              "      <td>2019-09-10</td>\n",
              "      <td>20190908</td>\n",
              "      <td>20190910</td>\n",
              "      <td>20190925.0</td>\n",
              "      <td>USD</td>\n",
              "      <td>RV</td>\n",
              "      <td>1.0</td>\n",
              "      <td>NaN</td>\n",
              "      <td>24421.35</td>\n",
              "      <td>20190910.0</td>\n",
              "      <td>NAH4</td>\n",
              "      <td>1.929849e+09</td>\n",
              "      <td>0</td>\n",
              "    </tr>\n",
              "  </tbody>\n",
              "</table>\n",
              "</div>"
            ],
            "text/plain": [
              "  business_code cust_number  ...    invoice_id isOpen\n",
              "0          U001  0200726979  ...  1.929236e+09      0\n",
              "1          U001  0200152991  ...  1.930064e+09      0\n",
              "2          U001  0200707822  ...  1.930173e+09      0\n",
              "3          U001  0200769623  ...  1.930638e+09      1\n",
              "4          U001  0200769623  ...  1.929849e+09      0\n",
              "\n",
              "[5 rows x 19 columns]"
            ]
          },
          "metadata": {
            "tags": []
          },
          "execution_count": 3
        }
      ]
    },
    {
      "cell_type": "code",
      "metadata": {
        "colab": {
          "base_uri": "https://localhost:8080/"
        },
        "id": "Vv0VZS-hGckz",
        "outputId": "bf9f50ef-7582-43b7-a801-819ace24999e"
      },
      "source": [
        "df.dtypes #printing the datatypes"
      ],
      "execution_count": 4,
      "outputs": [
        {
          "output_type": "execute_result",
          "data": {
            "text/plain": [
              "business_code              object\n",
              "cust_number                object\n",
              "name_customer              object\n",
              "clear_date                 object\n",
              "buisness_year             float64\n",
              "doc_id                    float64\n",
              "posting_date               object\n",
              "document_create_date        int64\n",
              "document_create_date.1      int64\n",
              "due_in_date               float64\n",
              "invoice_currency           object\n",
              "document type              object\n",
              "posting_id                float64\n",
              "area_business             float64\n",
              "total_open_amount         float64\n",
              "baseline_create_date      float64\n",
              "cust_payment_terms         object\n",
              "invoice_id                float64\n",
              "isOpen                      int64\n",
              "dtype: object"
            ]
          },
          "metadata": {
            "tags": []
          },
          "execution_count": 4
        }
      ]
    },
    {
      "cell_type": "code",
      "metadata": {
        "colab": {
          "base_uri": "https://localhost:8080/"
        },
        "id": "6SY8njvtGckz",
        "outputId": "f3973d48-7dc1-4dfe-ac93-d1f694d01b30"
      },
      "source": [
        "df.info() #looking at the info"
      ],
      "execution_count": 5,
      "outputs": [
        {
          "output_type": "stream",
          "text": [
            "<class 'pandas.core.frame.DataFrame'>\n",
            "RangeIndex: 50000 entries, 0 to 49999\n",
            "Data columns (total 19 columns):\n",
            " #   Column                  Non-Null Count  Dtype  \n",
            "---  ------                  --------------  -----  \n",
            " 0   business_code           50000 non-null  object \n",
            " 1   cust_number             50000 non-null  object \n",
            " 2   name_customer           50000 non-null  object \n",
            " 3   clear_date              40000 non-null  object \n",
            " 4   buisness_year           50000 non-null  float64\n",
            " 5   doc_id                  50000 non-null  float64\n",
            " 6   posting_date            50000 non-null  object \n",
            " 7   document_create_date    50000 non-null  int64  \n",
            " 8   document_create_date.1  50000 non-null  int64  \n",
            " 9   due_in_date             50000 non-null  float64\n",
            " 10  invoice_currency        50000 non-null  object \n",
            " 11  document type           50000 non-null  object \n",
            " 12  posting_id              50000 non-null  float64\n",
            " 13  area_business           0 non-null      float64\n",
            " 14  total_open_amount       50000 non-null  float64\n",
            " 15  baseline_create_date    50000 non-null  float64\n",
            " 16  cust_payment_terms      50000 non-null  object \n",
            " 17  invoice_id              49995 non-null  float64\n",
            " 18  isOpen                  50000 non-null  int64  \n",
            "dtypes: float64(8), int64(3), object(8)\n",
            "memory usage: 7.2+ MB\n"
          ],
          "name": "stdout"
        }
      ]
    },
    {
      "cell_type": "code",
      "metadata": {
        "colab": {
          "base_uri": "https://localhost:8080/",
          "height": 320
        },
        "id": "ZTWV3s8kGckz",
        "outputId": "e62a7382-262e-4730-c4a3-5302bb42e097"
      },
      "source": [
        "df.describe() #works on the numerical columns"
      ],
      "execution_count": 6,
      "outputs": [
        {
          "output_type": "execute_result",
          "data": {
            "text/html": [
              "<div>\n",
              "<style scoped>\n",
              "    .dataframe tbody tr th:only-of-type {\n",
              "        vertical-align: middle;\n",
              "    }\n",
              "\n",
              "    .dataframe tbody tr th {\n",
              "        vertical-align: top;\n",
              "    }\n",
              "\n",
              "    .dataframe thead th {\n",
              "        text-align: right;\n",
              "    }\n",
              "</style>\n",
              "<table border=\"1\" class=\"dataframe\">\n",
              "  <thead>\n",
              "    <tr style=\"text-align: right;\">\n",
              "      <th></th>\n",
              "      <th>buisness_year</th>\n",
              "      <th>doc_id</th>\n",
              "      <th>document_create_date</th>\n",
              "      <th>document_create_date.1</th>\n",
              "      <th>due_in_date</th>\n",
              "      <th>posting_id</th>\n",
              "      <th>area_business</th>\n",
              "      <th>total_open_amount</th>\n",
              "      <th>baseline_create_date</th>\n",
              "      <th>invoice_id</th>\n",
              "      <th>isOpen</th>\n",
              "    </tr>\n",
              "  </thead>\n",
              "  <tbody>\n",
              "    <tr>\n",
              "      <th>count</th>\n",
              "      <td>50000.000000</td>\n",
              "      <td>5.000000e+04</td>\n",
              "      <td>5.000000e+04</td>\n",
              "      <td>5.000000e+04</td>\n",
              "      <td>5.000000e+04</td>\n",
              "      <td>50000.0</td>\n",
              "      <td>0.0</td>\n",
              "      <td>50000.000000</td>\n",
              "      <td>5.000000e+04</td>\n",
              "      <td>4.999500e+04</td>\n",
              "      <td>50000.000000</td>\n",
              "    </tr>\n",
              "    <tr>\n",
              "      <th>mean</th>\n",
              "      <td>2019.305600</td>\n",
              "      <td>2.010744e+09</td>\n",
              "      <td>2.019351e+07</td>\n",
              "      <td>2.019353e+07</td>\n",
              "      <td>2.019368e+07</td>\n",
              "      <td>1.0</td>\n",
              "      <td>NaN</td>\n",
              "      <td>32334.842387</td>\n",
              "      <td>2.019353e+07</td>\n",
              "      <td>2.009995e+09</td>\n",
              "      <td>0.200000</td>\n",
              "    </tr>\n",
              "    <tr>\n",
              "      <th>std</th>\n",
              "      <td>0.460666</td>\n",
              "      <td>2.843987e+08</td>\n",
              "      <td>4.484229e+03</td>\n",
              "      <td>4.472414e+03</td>\n",
              "      <td>4.470785e+03</td>\n",
              "      <td>0.0</td>\n",
              "      <td>NaN</td>\n",
              "      <td>39257.052068</td>\n",
              "      <td>4.472431e+03</td>\n",
              "      <td>2.743730e+08</td>\n",
              "      <td>0.400004</td>\n",
              "    </tr>\n",
              "    <tr>\n",
              "      <th>min</th>\n",
              "      <td>2019.000000</td>\n",
              "      <td>1.928515e+09</td>\n",
              "      <td>2.018123e+07</td>\n",
              "      <td>2.018123e+07</td>\n",
              "      <td>2.018122e+07</td>\n",
              "      <td>1.0</td>\n",
              "      <td>NaN</td>\n",
              "      <td>0.170000</td>\n",
              "      <td>2.018121e+07</td>\n",
              "      <td>1.928515e+09</td>\n",
              "      <td>0.000000</td>\n",
              "    </tr>\n",
              "    <tr>\n",
              "      <th>25%</th>\n",
              "      <td>2019.000000</td>\n",
              "      <td>1.929334e+09</td>\n",
              "      <td>2.019050e+07</td>\n",
              "      <td>2.019050e+07</td>\n",
              "      <td>2.019052e+07</td>\n",
              "      <td>1.0</td>\n",
              "      <td>NaN</td>\n",
              "      <td>4912.582500</td>\n",
              "      <td>2.019050e+07</td>\n",
              "      <td>1.929334e+09</td>\n",
              "      <td>0.000000</td>\n",
              "    </tr>\n",
              "    <tr>\n",
              "      <th>50%</th>\n",
              "      <td>2019.000000</td>\n",
              "      <td>1.929959e+09</td>\n",
              "      <td>2.019091e+07</td>\n",
              "      <td>2.019091e+07</td>\n",
              "      <td>2.019092e+07</td>\n",
              "      <td>1.0</td>\n",
              "      <td>NaN</td>\n",
              "      <td>17450.435000</td>\n",
              "      <td>2.019091e+07</td>\n",
              "      <td>1.929959e+09</td>\n",
              "      <td>0.000000</td>\n",
              "    </tr>\n",
              "    <tr>\n",
              "      <th>75%</th>\n",
              "      <td>2020.000000</td>\n",
              "      <td>1.930619e+09</td>\n",
              "      <td>2.020013e+07</td>\n",
              "      <td>2.020013e+07</td>\n",
              "      <td>2.020022e+07</td>\n",
              "      <td>1.0</td>\n",
              "      <td>NaN</td>\n",
              "      <td>47058.305000</td>\n",
              "      <td>2.020013e+07</td>\n",
              "      <td>1.930619e+09</td>\n",
              "      <td>0.000000</td>\n",
              "    </tr>\n",
              "    <tr>\n",
              "      <th>max</th>\n",
              "      <td>2020.000000</td>\n",
              "      <td>9.500000e+09</td>\n",
              "      <td>2.020052e+07</td>\n",
              "      <td>2.020052e+07</td>\n",
              "      <td>2.020071e+07</td>\n",
              "      <td>1.0</td>\n",
              "      <td>NaN</td>\n",
              "      <td>819206.590000</td>\n",
              "      <td>2.020052e+07</td>\n",
              "      <td>2.960635e+09</td>\n",
              "      <td>1.000000</td>\n",
              "    </tr>\n",
              "  </tbody>\n",
              "</table>\n",
              "</div>"
            ],
            "text/plain": [
              "       buisness_year        doc_id  ...    invoice_id        isOpen\n",
              "count   50000.000000  5.000000e+04  ...  4.999500e+04  50000.000000\n",
              "mean     2019.305600  2.010744e+09  ...  2.009995e+09      0.200000\n",
              "std         0.460666  2.843987e+08  ...  2.743730e+08      0.400004\n",
              "min      2019.000000  1.928515e+09  ...  1.928515e+09      0.000000\n",
              "25%      2019.000000  1.929334e+09  ...  1.929334e+09      0.000000\n",
              "50%      2019.000000  1.929959e+09  ...  1.929959e+09      0.000000\n",
              "75%      2020.000000  1.930619e+09  ...  1.930619e+09      0.000000\n",
              "max      2020.000000  9.500000e+09  ...  2.960635e+09      1.000000\n",
              "\n",
              "[8 rows x 11 columns]"
            ]
          },
          "metadata": {
            "tags": []
          },
          "execution_count": 6
        }
      ]
    },
    {
      "cell_type": "code",
      "metadata": {
        "colab": {
          "base_uri": "https://localhost:8080/"
        },
        "id": "PiGeHlakGck0",
        "outputId": "2798692b-c8d6-406f-ef00-4180b13dc7c5"
      },
      "source": [
        "df.isnull().sum() #checking for null values"
      ],
      "execution_count": 7,
      "outputs": [
        {
          "output_type": "execute_result",
          "data": {
            "text/plain": [
              "business_code                 0\n",
              "cust_number                   0\n",
              "name_customer                 0\n",
              "clear_date                10000\n",
              "buisness_year                 0\n",
              "doc_id                        0\n",
              "posting_date                  0\n",
              "document_create_date          0\n",
              "document_create_date.1        0\n",
              "due_in_date                   0\n",
              "invoice_currency              0\n",
              "document type                 0\n",
              "posting_id                    0\n",
              "area_business             50000\n",
              "total_open_amount             0\n",
              "baseline_create_date          0\n",
              "cust_payment_terms            0\n",
              "invoice_id                    5\n",
              "isOpen                        0\n",
              "dtype: int64"
            ]
          },
          "metadata": {
            "tags": []
          },
          "execution_count": 7
        }
      ]
    },
    {
      "cell_type": "markdown",
      "metadata": {
        "id": "KpZqi1mkGck0"
      },
      "source": [
        "### Converting the dates"
      ]
    },
    {
      "cell_type": "code",
      "metadata": {
        "id": "OLSGatNko9IX"
      },
      "source": [
        "#Converting all the date columns to datetime format\n",
        "df['posting_date'] = pd.to_datetime(df['posting_date'])\n",
        "df['clear_date'] = pd.to_datetime(df['clear_date'])\n",
        "df['document_create_date']=df['document_create_date'].astype(str)\n",
        "df['document_create_date'] =  pd.to_datetime(df['document_create_date'], format='%Y-%m-%d')\n",
        "df['document_create_date.1']=df['document_create_date.1'].astype(str)\n",
        "df['document_create_date.1'] =  pd.to_datetime(df['document_create_date.1'], format='%Y-%m-%d')\n",
        "df['due_in_date']=df['due_in_date'].astype(int)\n",
        "df['due_in_date']=df['due_in_date'].astype(str)\n",
        "df['due_in_date'] =  pd.to_datetime(df['due_in_date'], format='%Y-%m-%d')\n",
        "df['baseline_create_date']=df['baseline_create_date'].astype(int)\n",
        "df['baseline_create_date']=df['baseline_create_date'].astype(str)\n",
        "df['baseline_create_date'] =  pd.to_datetime(df['baseline_create_date'], format='%Y-%m-%d')"
      ],
      "execution_count": 8,
      "outputs": []
    },
    {
      "cell_type": "code",
      "metadata": {
        "colab": {
          "base_uri": "https://localhost:8080/"
        },
        "id": "Pr0_fUEdo9IX",
        "outputId": "07911365-e75d-4fec-e82e-929cc6419157"
      },
      "source": [
        "#checking the datatype\n",
        "df.dtypes"
      ],
      "execution_count": 9,
      "outputs": [
        {
          "output_type": "execute_result",
          "data": {
            "text/plain": [
              "business_code                     object\n",
              "cust_number                       object\n",
              "name_customer                     object\n",
              "clear_date                datetime64[ns]\n",
              "buisness_year                    float64\n",
              "doc_id                           float64\n",
              "posting_date              datetime64[ns]\n",
              "document_create_date      datetime64[ns]\n",
              "document_create_date.1    datetime64[ns]\n",
              "due_in_date               datetime64[ns]\n",
              "invoice_currency                  object\n",
              "document type                     object\n",
              "posting_id                       float64\n",
              "area_business                    float64\n",
              "total_open_amount                float64\n",
              "baseline_create_date      datetime64[ns]\n",
              "cust_payment_terms                object\n",
              "invoice_id                       float64\n",
              "isOpen                             int64\n",
              "dtype: object"
            ]
          },
          "metadata": {
            "tags": []
          },
          "execution_count": 9
        }
      ]
    },
    {
      "cell_type": "code",
      "metadata": {
        "colab": {
          "base_uri": "https://localhost:8080/"
        },
        "id": "_EbPDdMto9IY",
        "outputId": "2b45cc88-fd08-478c-e788-7c83a647f746"
      },
      "source": [
        "# checking null value\n",
        "df.isnull().sum()"
      ],
      "execution_count": 10,
      "outputs": [
        {
          "output_type": "execute_result",
          "data": {
            "text/plain": [
              "business_code                 0\n",
              "cust_number                   0\n",
              "name_customer                 0\n",
              "clear_date                10000\n",
              "buisness_year                 0\n",
              "doc_id                        0\n",
              "posting_date                  0\n",
              "document_create_date          0\n",
              "document_create_date.1        0\n",
              "due_in_date                   0\n",
              "invoice_currency              0\n",
              "document type                 0\n",
              "posting_id                    0\n",
              "area_business             50000\n",
              "total_open_amount             0\n",
              "baseline_create_date          0\n",
              "cust_payment_terms            0\n",
              "invoice_id                    5\n",
              "isOpen                        0\n",
              "dtype: int64"
            ]
          },
          "metadata": {
            "tags": []
          },
          "execution_count": 10
        }
      ]
    },
    {
      "cell_type": "markdown",
      "metadata": {
        "id": "wJ97bYJco9Ia"
      },
      "source": [
        "# Dividing the dataset into Train and Test \n",
        "\n",
        "####  The rows whose clear dates are null we are keeping it in test rest in train set\n"
      ]
    },
    {
      "cell_type": "code",
      "metadata": {
        "colab": {
          "base_uri": "https://localhost:8080/"
        },
        "id": "TxRF5rcDo9IZ",
        "outputId": "6dec8a51-7079-410c-f378-d02d98e17c97"
      },
      "source": [
        "df['isOpen'].value_counts() #looking at the unique values in isOpen"
      ],
      "execution_count": 11,
      "outputs": [
        {
          "output_type": "execute_result",
          "data": {
            "text/plain": [
              "0    40000\n",
              "1    10000\n",
              "Name: isOpen, dtype: int64"
            ]
          },
          "metadata": {
            "tags": []
          },
          "execution_count": 11
        }
      ]
    },
    {
      "cell_type": "code",
      "metadata": {
        "id": "2ekdmyUho9Ib"
      },
      "source": [
        "#Dividing based on the isOpen column \n",
        "#isOpen is 0 where the clear date is given\n",
        "#isOpen is 1 where the clear date is given\n",
        "\n",
        "train=df[df.isOpen==0.0]\n",
        "test=df[df.isOpen==1.0]"
      ],
      "execution_count": 12,
      "outputs": []
    },
    {
      "cell_type": "markdown",
      "metadata": {
        "id": "wWOVK_iRo9Ic"
      },
      "source": [
        "# Preprocessing the train set\n"
      ]
    },
    {
      "cell_type": "code",
      "metadata": {
        "colab": {
          "base_uri": "https://localhost:8080/"
        },
        "id": "uwSzOmLYo9Id",
        "outputId": "ec52010b-3ec6-4092-fb92-8e3dc208540e"
      },
      "source": [
        "#checking for null values in train set\n",
        "train.isnull().sum()"
      ],
      "execution_count": 13,
      "outputs": [
        {
          "output_type": "execute_result",
          "data": {
            "text/plain": [
              "business_code                 0\n",
              "cust_number                   0\n",
              "name_customer                 0\n",
              "clear_date                    0\n",
              "buisness_year                 0\n",
              "doc_id                        0\n",
              "posting_date                  0\n",
              "document_create_date          0\n",
              "document_create_date.1        0\n",
              "due_in_date                   0\n",
              "invoice_currency              0\n",
              "document type                 0\n",
              "posting_id                    0\n",
              "area_business             40000\n",
              "total_open_amount             0\n",
              "baseline_create_date          0\n",
              "cust_payment_terms            0\n",
              "invoice_id                    5\n",
              "isOpen                        0\n",
              "dtype: int64"
            ]
          },
          "metadata": {
            "tags": []
          },
          "execution_count": 13
        }
      ]
    },
    {
      "cell_type": "markdown",
      "metadata": {
        "id": "rCkx0qr6Gck3"
      },
      "source": [
        "### Handling Null Values"
      ]
    },
    {
      "cell_type": "code",
      "metadata": {
        "id": "tqsMBbk5o9Ie"
      },
      "source": [
        "#Droping the 5 null rows in invoice_id as they are very few in number\n",
        "train.dropna(axis=0,subset=['invoice_id'],inplace=True)"
      ],
      "execution_count": 14,
      "outputs": []
    },
    {
      "cell_type": "code",
      "metadata": {
        "id": "xXH5pvS-o9Ie"
      },
      "source": [
        "#As the whole column was Null\n",
        "train.drop(axis=1,columns=['area_business'],inplace=True)"
      ],
      "execution_count": 15,
      "outputs": []
    },
    {
      "cell_type": "code",
      "metadata": {
        "colab": {
          "base_uri": "https://localhost:8080/"
        },
        "id": "Fl2Sof03Gck3",
        "outputId": "cf33c758-9e80-4747-a50c-a33799e48962"
      },
      "source": [
        "train.shape #looking at the shape"
      ],
      "execution_count": 16,
      "outputs": [
        {
          "output_type": "execute_result",
          "data": {
            "text/plain": [
              "(39995, 18)"
            ]
          },
          "metadata": {
            "tags": []
          },
          "execution_count": 16
        }
      ]
    },
    {
      "cell_type": "code",
      "metadata": {
        "colab": {
          "base_uri": "https://localhost:8080/"
        },
        "id": "oTC6HtwNGck4",
        "outputId": "2fd2be9c-05d9-4bcb-bfef-0b1d1cde0f06"
      },
      "source": [
        "train.isnull().sum()"
      ],
      "execution_count": 17,
      "outputs": [
        {
          "output_type": "execute_result",
          "data": {
            "text/plain": [
              "business_code             0\n",
              "cust_number               0\n",
              "name_customer             0\n",
              "clear_date                0\n",
              "buisness_year             0\n",
              "doc_id                    0\n",
              "posting_date              0\n",
              "document_create_date      0\n",
              "document_create_date.1    0\n",
              "due_in_date               0\n",
              "invoice_currency          0\n",
              "document type             0\n",
              "posting_id                0\n",
              "total_open_amount         0\n",
              "baseline_create_date      0\n",
              "cust_payment_terms        0\n",
              "invoice_id                0\n",
              "isOpen                    0\n",
              "dtype: int64"
            ]
          },
          "metadata": {
            "tags": []
          },
          "execution_count": 17
        }
      ]
    },
    {
      "cell_type": "markdown",
      "metadata": {
        "id": "o1lCMFzNGck4"
      },
      "source": [
        "###  Converting the currency from CAD to USD"
      ]
    },
    {
      "cell_type": "code",
      "metadata": {
        "colab": {
          "base_uri": "https://localhost:8080/"
        },
        "id": "g2HbZCpQp6ym",
        "outputId": "c8f72d96-269b-4d8f-a968-fe12e63d1b47"
      },
      "source": [
        "pip install CurrencyConverter"
      ],
      "execution_count": 18,
      "outputs": [
        {
          "output_type": "stream",
          "text": [
            "Collecting CurrencyConverter\n",
            "\u001b[?25l  Downloading https://files.pythonhosted.org/packages/67/56/dc92e9b3e4c07739550cea570326db39f28a4481b0c9cedfb2cbcef7dbaa/CurrencyConverter-0.16.2-py2.py3-none-any.whl (524kB)\n",
            "\r\u001b[K     |▋                               | 10kB 11.0MB/s eta 0:00:01\r\u001b[K     |█▎                              | 20kB 14.5MB/s eta 0:00:01\r\u001b[K     |█▉                              | 30kB 15.9MB/s eta 0:00:01\r\u001b[K     |██▌                             | 40kB 17.6MB/s eta 0:00:01\r\u001b[K     |███▏                            | 51kB 17.6MB/s eta 0:00:01\r\u001b[K     |███▊                            | 61kB 19.4MB/s eta 0:00:01\r\u001b[K     |████▍                           | 71kB 20.4MB/s eta 0:00:01\r\u001b[K     |█████                           | 81kB 21.1MB/s eta 0:00:01\r\u001b[K     |█████▋                          | 92kB 22.2MB/s eta 0:00:01\r\u001b[K     |██████▎                         | 102kB 22.8MB/s eta 0:00:01\r\u001b[K     |██████▉                         | 112kB 22.8MB/s eta 0:00:01\r\u001b[K     |███████▌                        | 122kB 22.8MB/s eta 0:00:01\r\u001b[K     |████████▏                       | 133kB 22.8MB/s eta 0:00:01\r\u001b[K     |████████▊                       | 143kB 22.8MB/s eta 0:00:01\r\u001b[K     |█████████▍                      | 153kB 22.8MB/s eta 0:00:01\r\u001b[K     |██████████                      | 163kB 22.8MB/s eta 0:00:01\r\u001b[K     |██████████▋                     | 174kB 22.8MB/s eta 0:00:01\r\u001b[K     |███████████▎                    | 184kB 22.8MB/s eta 0:00:01\r\u001b[K     |███████████▉                    | 194kB 22.8MB/s eta 0:00:01\r\u001b[K     |████████████▌                   | 204kB 22.8MB/s eta 0:00:01\r\u001b[K     |█████████████▏                  | 215kB 22.8MB/s eta 0:00:01\r\u001b[K     |█████████████▊                  | 225kB 22.8MB/s eta 0:00:01\r\u001b[K     |██████████████▍                 | 235kB 22.8MB/s eta 0:00:01\r\u001b[K     |███████████████                 | 245kB 22.8MB/s eta 0:00:01\r\u001b[K     |███████████████▋                | 256kB 22.8MB/s eta 0:00:01\r\u001b[K     |████████████████▎               | 266kB 22.8MB/s eta 0:00:01\r\u001b[K     |████████████████▉               | 276kB 22.8MB/s eta 0:00:01\r\u001b[K     |█████████████████▌              | 286kB 22.8MB/s eta 0:00:01\r\u001b[K     |██████████████████              | 296kB 22.8MB/s eta 0:00:01\r\u001b[K     |██████████████████▊             | 307kB 22.8MB/s eta 0:00:01\r\u001b[K     |███████████████████▍            | 317kB 22.8MB/s eta 0:00:01\r\u001b[K     |████████████████████            | 327kB 22.8MB/s eta 0:00:01\r\u001b[K     |████████████████████▋           | 337kB 22.8MB/s eta 0:00:01\r\u001b[K     |█████████████████████▎          | 348kB 22.8MB/s eta 0:00:01\r\u001b[K     |█████████████████████▉          | 358kB 22.8MB/s eta 0:00:01\r\u001b[K     |██████████████████████▌         | 368kB 22.8MB/s eta 0:00:01\r\u001b[K     |███████████████████████         | 378kB 22.8MB/s eta 0:00:01\r\u001b[K     |███████████████████████▊        | 389kB 22.8MB/s eta 0:00:01\r\u001b[K     |████████████████████████▍       | 399kB 22.8MB/s eta 0:00:01\r\u001b[K     |█████████████████████████       | 409kB 22.8MB/s eta 0:00:01\r\u001b[K     |█████████████████████████▋      | 419kB 22.8MB/s eta 0:00:01\r\u001b[K     |██████████████████████████▎     | 430kB 22.8MB/s eta 0:00:01\r\u001b[K     |██████████████████████████▉     | 440kB 22.8MB/s eta 0:00:01\r\u001b[K     |███████████████████████████▌    | 450kB 22.8MB/s eta 0:00:01\r\u001b[K     |████████████████████████████    | 460kB 22.8MB/s eta 0:00:01\r\u001b[K     |████████████████████████████▊   | 471kB 22.8MB/s eta 0:00:01\r\u001b[K     |█████████████████████████████▍  | 481kB 22.8MB/s eta 0:00:01\r\u001b[K     |██████████████████████████████  | 491kB 22.8MB/s eta 0:00:01\r\u001b[K     |██████████████████████████████▋ | 501kB 22.8MB/s eta 0:00:01\r\u001b[K     |███████████████████████████████▎| 512kB 22.8MB/s eta 0:00:01\r\u001b[K     |███████████████████████████████▉| 522kB 22.8MB/s eta 0:00:01\r\u001b[K     |████████████████████████████████| 532kB 22.8MB/s \n",
            "\u001b[?25hInstalling collected packages: CurrencyConverter\n",
            "Successfully installed CurrencyConverter-0.16.2\n"
          ],
          "name": "stdout"
        }
      ]
    },
    {
      "cell_type": "code",
      "metadata": {
        "id": "EJyA2TXwo9If"
      },
      "source": [
        "#import the CurrencyConverter libraries\n",
        "from currency_converter import CurrencyConverter"
      ],
      "execution_count": 19,
      "outputs": []
    },
    {
      "cell_type": "code",
      "metadata": {
        "id": "baj52VMTo9If"
      },
      "source": [
        "#Creating object of CurrencyConverter class\n",
        "c=CurrencyConverter()"
      ],
      "execution_count": 20,
      "outputs": []
    },
    {
      "cell_type": "code",
      "metadata": {
        "id": "8i-e5N5_o9If"
      },
      "source": [
        "#converting the currency to USD\n",
        "for i in range (len(train)):\n",
        "        if train.iloc[i,10]==\"CAD\":\n",
        "            train.iloc[i,13]= c.convert(train.iloc[i,13],'USD','CAD')\n",
        "            train.invoice_currency='USD'"
      ],
      "execution_count": 21,
      "outputs": []
    },
    {
      "cell_type": "markdown",
      "metadata": {
        "id": "_3EgqEifGck5"
      },
      "source": [
        "### Dropping the isOpen and invoice_currency columns"
      ]
    },
    {
      "cell_type": "code",
      "metadata": {
        "id": "lbWEdEP9o9If"
      },
      "source": [
        "#dropping isOpen as it is having a constant value\n",
        "#dropping invoice currency as it is no more needed as we have already converted everyone into USD\n",
        "train.drop('isOpen',axis=1,inplace=True)\n",
        "train.drop('invoice_currency',axis=1,inplace=True)"
      ],
      "execution_count": 22,
      "outputs": []
    },
    {
      "cell_type": "code",
      "metadata": {
        "colab": {
          "base_uri": "https://localhost:8080/"
        },
        "id": "VfA4NFcbo9Ig",
        "outputId": "e7d73cfb-9e43-4b65-bd66-c934e2415055"
      },
      "source": [
        "train.shape"
      ],
      "execution_count": 23,
      "outputs": [
        {
          "output_type": "execute_result",
          "data": {
            "text/plain": [
              "(39995, 16)"
            ]
          },
          "metadata": {
            "tags": []
          },
          "execution_count": 23
        }
      ]
    },
    {
      "cell_type": "code",
      "metadata": {
        "id": "lC7UPgIao9Ig"
      },
      "source": [
        "#reseting the indexes\n",
        "train=train.reset_index(drop=True)"
      ],
      "execution_count": 24,
      "outputs": []
    },
    {
      "cell_type": "markdown",
      "metadata": {
        "id": "kRqxjXPSGck6"
      },
      "source": [
        "### Rounding the total_open_amount to 2 decimal places"
      ]
    },
    {
      "cell_type": "code",
      "metadata": {
        "id": "3dB5rBwho9Ih"
      },
      "source": [
        "#rounding the total_open_amount to 2 decimal places\n",
        "for i in range(0,train.shape[0]):\n",
        "  train.total_open_amount[i]=\"{:.2f}\".format(train.total_open_amount[i])"
      ],
      "execution_count": 25,
      "outputs": []
    },
    {
      "cell_type": "markdown",
      "metadata": {
        "id": "EhyJ2hoFGck6"
      },
      "source": [
        "### Removing the Duplicates\n"
      ]
    },
    {
      "cell_type": "code",
      "metadata": {
        "id": "Jhajmvt0o9Ih"
      },
      "source": [
        "#transposing the dataframe\n",
        "t=train.transpose()"
      ],
      "execution_count": 26,
      "outputs": []
    },
    {
      "cell_type": "code",
      "metadata": {
        "colab": {
          "base_uri": "https://localhost:8080/"
        },
        "id": "wM2dp1_Wo9Ih",
        "outputId": "bbd2de9f-6c6d-4f9a-fcae-b4b4d15517c3"
      },
      "source": [
        "#checking the duplicate rows in t dataframe\n",
        "t.duplicated()"
      ],
      "execution_count": 27,
      "outputs": [
        {
          "output_type": "execute_result",
          "data": {
            "text/plain": [
              "business_code             False\n",
              "cust_number               False\n",
              "name_customer             False\n",
              "clear_date                False\n",
              "buisness_year             False\n",
              "doc_id                    False\n",
              "posting_date              False\n",
              "document_create_date      False\n",
              "document_create_date.1     True\n",
              "due_in_date               False\n",
              "document type             False\n",
              "posting_id                False\n",
              "total_open_amount         False\n",
              "baseline_create_date      False\n",
              "cust_payment_terms        False\n",
              "invoice_id                 True\n",
              "dtype: bool"
            ]
          },
          "metadata": {
            "tags": []
          },
          "execution_count": 27
        }
      ]
    },
    {
      "cell_type": "code",
      "metadata": {
        "id": "aWUKYbT1o9Ii"
      },
      "source": [
        "#dropping the duplicates rows by keeping the last one\n",
        "t.drop_duplicates(keep='first',inplace=True)"
      ],
      "execution_count": 28,
      "outputs": []
    },
    {
      "cell_type": "code",
      "metadata": {
        "colab": {
          "base_uri": "https://localhost:8080/"
        },
        "id": "qtpTxTovo9Ii",
        "outputId": "3381b466-f5a5-4042-9a01-7ffe3e95a2d2"
      },
      "source": [
        "#checking the duplicate rows\n",
        "t.duplicated()"
      ],
      "execution_count": 29,
      "outputs": [
        {
          "output_type": "execute_result",
          "data": {
            "text/plain": [
              "business_code           False\n",
              "cust_number             False\n",
              "name_customer           False\n",
              "clear_date              False\n",
              "buisness_year           False\n",
              "doc_id                  False\n",
              "posting_date            False\n",
              "document_create_date    False\n",
              "due_in_date             False\n",
              "document type           False\n",
              "posting_id              False\n",
              "total_open_amount       False\n",
              "baseline_create_date    False\n",
              "cust_payment_terms      False\n",
              "dtype: bool"
            ]
          },
          "metadata": {
            "tags": []
          },
          "execution_count": 29
        }
      ]
    },
    {
      "cell_type": "code",
      "metadata": {
        "id": "DytnKO_vo9Ii"
      },
      "source": [
        "#transposing the dataframe\n",
        "train=t.transpose()"
      ],
      "execution_count": 30,
      "outputs": []
    },
    {
      "cell_type": "code",
      "metadata": {
        "id": "y4CLOU7Ko9Ij"
      },
      "source": [
        "#reseting the indexes\n",
        "train=train.reset_index(drop=True)"
      ],
      "execution_count": 31,
      "outputs": []
    },
    {
      "cell_type": "markdown",
      "metadata": {
        "id": "tSki6AhzGck8"
      },
      "source": [
        "## Checking for constant columns and removing them"
      ]
    },
    {
      "cell_type": "code",
      "metadata": {
        "colab": {
          "base_uri": "https://localhost:8080/"
        },
        "id": "E-yCvLvao9Ij",
        "outputId": "df26868d-60fb-4e2c-9238-8dcf93f2cd0a"
      },
      "source": [
        "#finding the unique columns\n",
        "unique =  [x for x in train.columns if train[x].nunique()==1] \n",
        "print(unique)"
      ],
      "execution_count": 32,
      "outputs": [
        {
          "output_type": "stream",
          "text": [
            "['document type', 'posting_id']\n"
          ],
          "name": "stdout"
        }
      ]
    },
    {
      "cell_type": "code",
      "metadata": {
        "id": "gCWkfBHco9Ij"
      },
      "source": [
        "#dropping the unique columns\n",
        "train.drop(columns=unique,axis=0,inplace=True)"
      ],
      "execution_count": 33,
      "outputs": []
    },
    {
      "cell_type": "code",
      "metadata": {
        "colab": {
          "base_uri": "https://localhost:8080/"
        },
        "id": "E7risF6Zo9Ik",
        "outputId": "b3e18ee8-9db2-4193-a1cd-bbbfcddc5d9a"
      },
      "source": [
        "train.shape"
      ],
      "execution_count": 34,
      "outputs": [
        {
          "output_type": "execute_result",
          "data": {
            "text/plain": [
              "(39995, 12)"
            ]
          },
          "metadata": {
            "tags": []
          },
          "execution_count": 34
        }
      ]
    },
    {
      "cell_type": "markdown",
      "metadata": {
        "id": "9ML1OFrDGck9"
      },
      "source": [
        "### Grouping the values\n"
      ]
    },
    {
      "cell_type": "code",
      "metadata": {
        "colab": {
          "base_uri": "https://localhost:8080/"
        },
        "id": "PrvPZPNAo9Ik",
        "outputId": "5a70aa29-cdbb-4add-b41c-dcf4bff908aa"
      },
      "source": [
        "#looking at the unique values in each column which have unique value less than 12\n",
        "for col in train.columns:\n",
        "    if train[col].nunique()<= 12:\n",
        "        print(train[col].value_counts())\n",
        "        "
      ],
      "execution_count": 35,
      "outputs": [
        {
          "output_type": "stream",
          "text": [
            "U001    36150\n",
            "CA02     3139\n",
            "U013      558\n",
            "U002      134\n",
            "U005       13\n",
            "U007        1\n",
            "Name: business_code, dtype: int64\n",
            "2019.0    34715\n",
            "2020.0     5280\n",
            "Name: buisness_year, dtype: int64\n"
          ],
          "name": "stdout"
        }
      ]
    },
    {
      "cell_type": "code",
      "metadata": {
        "id": "xQwci-98o9Ik"
      },
      "source": [
        "#grouping values of business_code \n",
        "train['business_code'] = np.where(train['business_code'].isin([\"U002\",\n",
        "                                                             \"U005\",\n",
        "                                                             \"U007\"]),\"Other\",train['business_code'])"
      ],
      "execution_count": 36,
      "outputs": []
    },
    {
      "cell_type": "code",
      "metadata": {
        "id": "VMIGXNVu9zef"
      },
      "source": [
        "#taking values which are not grouped \n",
        "mask_obs_business_code=['U001','CA02','U013']"
      ],
      "execution_count": 37,
      "outputs": []
    },
    {
      "cell_type": "code",
      "metadata": {
        "colab": {
          "base_uri": "https://localhost:8080/"
        },
        "id": "pnM4Kpdoo9Ik",
        "outputId": "114ce146-a5a9-41f0-936a-75a6156b00c4"
      },
      "source": [
        "train.cust_number.value_counts()"
      ],
      "execution_count": 38,
      "outputs": [
        {
          "output_type": "execute_result",
          "data": {
            "text/plain": [
              "0200769623    8952\n",
              "0200726979    1508\n",
              "0200762301    1215\n",
              "0200759878    1039\n",
              "0200794332     863\n",
              "              ... \n",
              "0100050898       1\n",
              "100031483        1\n",
              "100012698        1\n",
              "100033439        1\n",
              "0200439044       1\n",
              "Name: cust_number, Length: 1357, dtype: int64"
            ]
          },
          "metadata": {
            "tags": []
          },
          "execution_count": 38
        }
      ]
    },
    {
      "cell_type": "code",
      "metadata": {
        "colab": {
          "base_uri": "https://localhost:8080/"
        },
        "id": "qjvtVquCNLA3",
        "outputId": "fc86fa23-b873-415d-8606-fc6829508f7a"
      },
      "source": [
        "#taking values which are not grouprd of cust_number values\n",
        "frequencies=train.cust_number.value_counts()\n",
        "condition=frequencies>500\n",
        "mask_obs_cust_number=frequencies[condition].index\n",
        "list(mask_obs_cust_number)"
      ],
      "execution_count": 39,
      "outputs": [
        {
          "output_type": "execute_result",
          "data": {
            "text/plain": [
              "['0200769623',\n",
              " '0200726979',\n",
              " '0200762301',\n",
              " '0200759878',\n",
              " '0200794332',\n",
              " '0200744019',\n",
              " '0200772670',\n",
              " '200769623',\n",
              " '0200705742',\n",
              " 'CCU013',\n",
              " '0200707822']"
            ]
          },
          "metadata": {
            "tags": []
          },
          "execution_count": 39
        }
      ]
    },
    {
      "cell_type": "code",
      "metadata": {
        "colab": {
          "base_uri": "https://localhost:8080/"
        },
        "id": "4yt8XcuMo9Ik",
        "outputId": "019df45c-3261-48c8-f144-a67953047024"
      },
      "source": [
        "#grouping some values of cust_number values\n",
        "frequencies=train.cust_number.value_counts()\n",
        "condition=frequencies<500\n",
        "mask_obs=frequencies[condition].index\n",
        "mask_dict=dict.fromkeys(mask_obs,'other')\n",
        "train['cust_number']=train['cust_number'].replace(mask_dict)\n",
        "train.cust_number.value_counts()"
      ],
      "execution_count": 40,
      "outputs": [
        {
          "output_type": "execute_result",
          "data": {
            "text/plain": [
              "other         22439\n",
              "0200769623     8952\n",
              "0200726979     1508\n",
              "0200762301     1215\n",
              "0200759878     1039\n",
              "0200794332      863\n",
              "0200744019      790\n",
              "0200772670      768\n",
              "200769623       669\n",
              "0200705742      667\n",
              "CCU013          552\n",
              "0200707822      533\n",
              "Name: cust_number, dtype: int64"
            ]
          },
          "metadata": {
            "tags": []
          },
          "execution_count": 40
        }
      ]
    },
    {
      "cell_type": "markdown",
      "metadata": {
        "id": "kUvCieBNGck_"
      },
      "source": [
        "### Sorting the train set"
      ]
    },
    {
      "cell_type": "code",
      "metadata": {
        "id": "KXZkww5Yo9Il"
      },
      "source": [
        "#sorting the datframe according to posting_date\n",
        "train.sort_values(by='posting_date',inplace=True)"
      ],
      "execution_count": 41,
      "outputs": []
    },
    {
      "cell_type": "markdown",
      "metadata": {
        "id": "9y1qoKTuGclA"
      },
      "source": [
        "### Creating Delay Column"
      ]
    },
    {
      "cell_type": "code",
      "metadata": {
        "id": "kVyeayVbo9Il"
      },
      "source": [
        "train['delay']=train['due_in_date']-train['clear_date'] #this is our target column"
      ],
      "execution_count": 42,
      "outputs": []
    },
    {
      "cell_type": "code",
      "metadata": {
        "colab": {
          "base_uri": "https://localhost:8080/"
        },
        "id": "WeRy1vbqo9Il",
        "outputId": "ed2e662c-d8eb-45e5-f116-f9495da7102c"
      },
      "source": [
        "train.isnull().sum() "
      ],
      "execution_count": 43,
      "outputs": [
        {
          "output_type": "execute_result",
          "data": {
            "text/plain": [
              "business_code           0\n",
              "cust_number             0\n",
              "name_customer           0\n",
              "clear_date              0\n",
              "buisness_year           0\n",
              "doc_id                  0\n",
              "posting_date            0\n",
              "document_create_date    0\n",
              "due_in_date             0\n",
              "total_open_amount       0\n",
              "baseline_create_date    0\n",
              "cust_payment_terms      0\n",
              "delay                   0\n",
              "dtype: int64"
            ]
          },
          "metadata": {
            "tags": []
          },
          "execution_count": 43
        }
      ]
    },
    {
      "cell_type": "code",
      "metadata": {
        "colab": {
          "base_uri": "https://localhost:8080/"
        },
        "id": "wjgbrVRnGclA",
        "outputId": "b6ed39ea-4302-4525-ee7e-cceee59935cf"
      },
      "source": [
        "train.shape #checking the shape"
      ],
      "execution_count": 44,
      "outputs": [
        {
          "output_type": "execute_result",
          "data": {
            "text/plain": [
              "(39995, 13)"
            ]
          },
          "metadata": {
            "tags": []
          },
          "execution_count": 44
        }
      ]
    },
    {
      "cell_type": "markdown",
      "metadata": {
        "id": "b7EShW3po9Il"
      },
      "source": [
        "## Splitting the datafame into train, test, validate\n"
      ]
    },
    {
      "cell_type": "code",
      "metadata": {
        "id": "ATDebuVio9Il"
      },
      "source": [
        "#converting delay column into integer type\n",
        "train['delay']=pd.to_numeric(train['delay'].dt.days,downcast='integer')"
      ],
      "execution_count": 45,
      "outputs": []
    },
    {
      "cell_type": "markdown",
      "metadata": {
        "id": "MWdjhmNBGclB"
      },
      "source": [
        "### Dividing the X and Y "
      ]
    },
    {
      "cell_type": "code",
      "metadata": {
        "id": "hHekMsjDo9Im"
      },
      "source": [
        "x=train.drop('delay',axis=1)  # x dataframe all the columns without the delay column\n",
        "y=train['delay']    # y contains only the delay column"
      ],
      "execution_count": 46,
      "outputs": []
    },
    {
      "cell_type": "code",
      "metadata": {
        "id": "Axd7FkNno9Im"
      },
      "source": [
        "#import the required libraries\n",
        "from sklearn.model_selection import train_test_split"
      ],
      "execution_count": 47,
      "outputs": []
    },
    {
      "cell_type": "markdown",
      "metadata": {
        "id": "0KBDYhXrGclC"
      },
      "source": [
        "### Dividing the train and intermediate test into 80 and 20 ratio\n",
        "### Dividing the intermediate test into validation and test into 50 50 ratio"
      ]
    },
    {
      "cell_type": "code",
      "metadata": {
        "id": "52YzanqAo9Im"
      },
      "source": [
        "x_train,x_inter_test,y_train,y_inter_test = train_test_split(x,y, test_size=0.2, random_state=0 , shuffle = False)\n",
        "x_val,x_test,y_val,y_test = train_test_split(x_inter_test,y_inter_test, test_size=0.5, random_state=0 , shuffle = False)"
      ],
      "execution_count": 48,
      "outputs": []
    },
    {
      "cell_type": "markdown",
      "metadata": {
        "id": "kjv_7mXyo9Im"
      },
      "source": [
        "## EDA"
      ]
    },
    {
      "cell_type": "code",
      "metadata": {
        "colab": {
          "base_uri": "https://localhost:8080/",
          "height": 531
        },
        "id": "BJ6qI5Yyo9Im",
        "outputId": "f711fe03-9254-4129-de2a-8ec510538db0"
      },
      "source": [
        "#checking for outliers in the target column\n",
        "sns.distplot(y_train)\n",
        "plt.show()\n",
        "print()\n",
        "sns.boxplot(y=y_train)\n",
        "plt.show()"
      ],
      "execution_count": 49,
      "outputs": [
        {
          "output_type": "display_data",
          "data": {
            "image/png": "[encoded data removed]",
            "text/plain": [
              "<Figure size 432x288 with 1 Axes>"
            ]
          },
          "metadata": {
            "tags": [],
            "needs_background": "light"
          }
        },
        {
          "output_type": "stream",
          "text": [
            "\n"
          ],
          "name": "stdout"
        },
        {
          "output_type": "display_data",
          "data": {
            "image/png": "[encoded data removed]",
            "text/plain": [
              "<Figure size 432x288 with 1 Axes>"
            ]
          },
          "metadata": {
            "tags": [],
            "needs_background": "light"
          }
        }
      ]
    },
    {
      "cell_type": "code",
      "metadata": {
        "colab": {
          "base_uri": "https://localhost:8080/",
          "height": 1000
        },
        "id": "evQD4JFkGclC",
        "outputId": "d41f2460-1aaa-4f79-97f0-7ff3eb0335ea"
      },
      "source": [
        "#ploting the numnerical columns\n",
        "cols=list(x_train.describe().columns)\n",
        "for i in cols:\n",
        "  plt.hist(x_train[i])\n",
        "  plt.xlabel(i)\n",
        "  print(plt.show())"
      ],
      "execution_count": 50,
      "outputs": [
        {
          "output_type": "display_data",
          "data": {
            "image/png": "[encoded data removed]",
            "text/plain": [
              "<Figure size 432x288 with 1 Axes>"
            ]
          },
          "metadata": {
            "tags": [],
            "needs_background": "light"
          }
        },
        {
          "output_type": "stream",
          "text": [
            "None\n"
          ],
          "name": "stdout"
        },
        {
          "output_type": "display_data",
          "data": {
            "image/png": "[encoded data removed]",
            "text/plain": [
              "<Figure size 432x288 with 1 Axes>"
            ]
          },
          "metadata": {
            "tags": [],
            "needs_background": "light"
          }
        },
        {
          "output_type": "stream",
          "text": [
            "None\n"
          ],
          "name": "stdout"
        },
        {
          "output_type": "display_data",
          "data": {
            "image/png": "[encoded data removed]",
            "text/plain": [
              "<Figure size 432x288 with 1 Axes>"
            ]
          },
          "metadata": {
            "tags": [],
            "needs_background": "light"
          }
        },
        {
          "output_type": "stream",
          "text": [
            "None\n"
          ],
          "name": "stdout"
        },
        {
          "output_type": "display_data",
          "data": {
            "image/png": "[encoded data removed]",
            "text/plain": [
              "<Figure size 432x288 with 1 Axes>"
            ]
          },
          "metadata": {
            "tags": [],
            "needs_background": "light"
          }
        },
        {
          "output_type": "stream",
          "text": [
            "None\n"
          ],
          "name": "stdout"
        },
        {
          "output_type": "display_data",
          "data": {
            "image/png": "[encoded data removed]",
            "text/plain": [
              "<Figure size 432x288 with 1 Axes>"
            ]
          },
          "metadata": {
            "tags": [],
            "needs_background": "light"
          }
        },
        {
          "output_type": "stream",
          "text": [
            "None\n"
          ],
          "name": "stdout"
        },
        {
          "output_type": "display_data",
          "data": {
            "image/png": "[encoded data removed]",
            "text/plain": [
              "<Figure size 432x288 with 1 Axes>"
            ]
          },
          "metadata": {
            "tags": [],
            "needs_background": "light"
          }
        },
        {
          "output_type": "stream",
          "text": [
            "None\n"
          ],
          "name": "stdout"
        },
        {
          "output_type": "display_data",
          "data": {
            "image/png": "[encoded data removed]",
            "text/plain": [
              "<Figure size 432x288 with 1 Axes>"
            ]
          },
          "metadata": {
            "tags": [],
            "needs_background": "light"
          }
        },
        {
          "output_type": "stream",
          "text": [
            "None\n"
          ],
          "name": "stdout"
        },
        {
          "output_type": "display_data",
          "data": {
            "image/png": "[encoded data removed]",
            "text/plain": [
              "<Figure size 432x288 with 1 Axes>"
            ]
          },
          "metadata": {
            "tags": [],
            "needs_background": "light"
          }
        },
        {
          "output_type": "stream",
          "text": [
            "None\n"
          ],
          "name": "stdout"
        },
        {
          "output_type": "display_data",
          "data": {
            "image/png": "[encoded data removed]",
            "text/plain": [
              "<Figure size 432x288 with 1 Axes>"
            ]
          },
          "metadata": {
            "tags": [],
            "needs_background": "light"
          }
        },
        {
          "output_type": "stream",
          "text": [
            "None\n"
          ],
          "name": "stdout"
        },
        {
          "output_type": "display_data",
          "data": {
            "image/png": "[encoded data removed]",
            "text/plain": [
              "<Figure size 432x288 with 1 Axes>"
            ]
          },
          "metadata": {
            "tags": [],
            "needs_background": "light"
          }
        },
        {
          "output_type": "stream",
          "text": [
            "None\n"
          ],
          "name": "stdout"
        },
        {
          "output_type": "display_data",
          "data": {
            "image/png": "[encoded data removed]",
            "text/plain": [
              "<Figure size 432x288 with 1 Axes>"
            ]
          },
          "metadata": {
            "tags": [],
            "needs_background": "light"
          }
        },
        {
          "output_type": "stream",
          "text": [
            "None\n"
          ],
          "name": "stdout"
        },
        {
          "output_type": "display_data",
          "data": {
            "image/png": "[encoded data removed]",
            "text/plain": [
              "<Figure size 432x288 with 1 Axes>"
            ]
          },
          "metadata": {
            "tags": [],
            "needs_background": "light"
          }
        },
        {
          "output_type": "stream",
          "text": [
            "None\n"
          ],
          "name": "stdout"
        }
      ]
    },
    {
      "cell_type": "markdown",
      "metadata": {
        "id": "T9mRdrtzo9In"
      },
      "source": [
        "# Feature Engineering"
      ]
    },
    {
      "cell_type": "markdown",
      "metadata": {
        "id": "4KhynrAnGclD"
      },
      "source": [
        "### Changing the datatypes"
      ]
    },
    {
      "cell_type": "code",
      "metadata": {
        "colab": {
          "base_uri": "https://localhost:8080/"
        },
        "id": "GwFVwcuTo9In",
        "outputId": "c1547cdb-7840-4a22-cb39-c9740d1cdb14"
      },
      "source": [
        "#checking the dataypes of the columns\n",
        "x_train.dtypes"
      ],
      "execution_count": 51,
      "outputs": [
        {
          "output_type": "execute_result",
          "data": {
            "text/plain": [
              "business_code                   object\n",
              "cust_number                     object\n",
              "name_customer                   object\n",
              "clear_date              datetime64[ns]\n",
              "buisness_year                   object\n",
              "doc_id                          object\n",
              "posting_date            datetime64[ns]\n",
              "document_create_date    datetime64[ns]\n",
              "due_in_date             datetime64[ns]\n",
              "total_open_amount               object\n",
              "baseline_create_date    datetime64[ns]\n",
              "cust_payment_terms              object\n",
              "dtype: object"
            ]
          },
          "metadata": {
            "tags": []
          },
          "execution_count": 51
        }
      ]
    },
    {
      "cell_type": "code",
      "metadata": {
        "id": "VVVfaTVQo9In"
      },
      "source": [
        "#function to change the datatype\n",
        "def change_dtype(col ,typechg,train_1 = x_train,val_1 = x_val,test_1 = x_test):\n",
        "    train_1[col]=train_1[col].astype(typechg)\n",
        "    val_1[col]=val_1[col].astype(typechg)\n",
        "    test_1[col]=test_1[col].astype(typechg)\n",
        "    return train_1,val_1,test_1"
      ],
      "execution_count": 52,
      "outputs": []
    },
    {
      "cell_type": "code",
      "metadata": {
        "id": "K6O4CeSEo9In"
      },
      "source": [
        "#changing the datatypes of total_open_amount , buisness_year , doc_id columns\n",
        "x_train,x_val,x_test = change_dtype('total_open_amount','float')\n",
        "x_train,x_val,x_test = change_dtype('buisness_year','int')\n",
        "x_train,x_val,x_test = change_dtype('doc_id','float')"
      ],
      "execution_count": 53,
      "outputs": []
    },
    {
      "cell_type": "code",
      "metadata": {
        "colab": {
          "base_uri": "https://localhost:8080/"
        },
        "id": "IZA3Zh72o9In",
        "outputId": "6676218a-d1ed-43a3-df7e-06bbbdcdc1d2"
      },
      "source": [
        "#checking the dataypes of the columns\n",
        "x_train.dtypes"
      ],
      "execution_count": 54,
      "outputs": [
        {
          "output_type": "execute_result",
          "data": {
            "text/plain": [
              "business_code                   object\n",
              "cust_number                     object\n",
              "name_customer                   object\n",
              "clear_date              datetime64[ns]\n",
              "buisness_year                    int64\n",
              "doc_id                         float64\n",
              "posting_date            datetime64[ns]\n",
              "document_create_date    datetime64[ns]\n",
              "due_in_date             datetime64[ns]\n",
              "total_open_amount              float64\n",
              "baseline_create_date    datetime64[ns]\n",
              "cust_payment_terms              object\n",
              "dtype: object"
            ]
          },
          "metadata": {
            "tags": []
          },
          "execution_count": 54
        }
      ]
    },
    {
      "cell_type": "markdown",
      "metadata": {
        "id": "1Kp3y3C8GclE"
      },
      "source": [
        "### Encoding and dropping the columns that are not needed\n"
      ]
    },
    {
      "cell_type": "code",
      "metadata": {
        "id": "6oUmzuzro9Io"
      },
      "source": [
        "#importing the required library\n",
        "from sklearn.preprocessing import LabelEncoder"
      ],
      "execution_count": 55,
      "outputs": []
    },
    {
      "cell_type": "code",
      "metadata": {
        "id": "EvM8ez0oo9Io"
      },
      "source": [
        "#creating a function to drop columns\n",
        "def dropcols(col ,train_1 = x_train,val_1 = x_val,test_1 = x_test):\n",
        "    train_1.drop(col, axis =1,inplace=True)\n",
        "    val_1.drop(col,axis=1 , inplace=True)\n",
        "    test_1.drop(col,axis=1 , inplace=True)\n",
        "    return train_1,val_1 ,test_1"
      ],
      "execution_count": 56,
      "outputs": []
    },
    {
      "cell_type": "code",
      "metadata": {
        "id": "TYguVh5Eo9Io"
      },
      "source": [
        "#encoding the business_code column\n",
        "encode = LabelEncoder()\n",
        "encode.fit(x_train['business_code'])\n",
        "x_train['business_code_enc'] = encode.transform(x_train['business_code'])\n",
        "x_val['business_code_enc'] = encode.transform(x_val['business_code'])\n",
        "x_test['business_code_enc'] = encode.transform(x_test['business_code'])"
      ],
      "execution_count": 57,
      "outputs": []
    },
    {
      "cell_type": "code",
      "metadata": {
        "id": "JvyPmevMo9Io"
      },
      "source": [
        "#droping the business_code column\n",
        "x_train,x_val,x_test = dropcols('business_code')"
      ],
      "execution_count": 58,
      "outputs": []
    },
    {
      "cell_type": "code",
      "metadata": {
        "id": "-_ZUv-Ueo9Io"
      },
      "source": [
        "#function to change date datype into integer\n",
        "def date_separate(col ,train_1 = x_train,val_1 = x_val,test_1 = x_test):\n",
        "    time=col+\"_timestamp\"\n",
        "    train_1[time]=pd.to_numeric(train_1[col])\n",
        "    val_1[time]=pd.to_numeric(test_1[col])\n",
        "    test_1[time]=pd.to_numeric(test_1[col])\n",
        "    return train_1,val_1,test_1"
      ],
      "execution_count": 59,
      "outputs": []
    },
    {
      "cell_type": "code",
      "metadata": {
        "id": "ukX7YD1Xo9Io"
      },
      "source": [
        "#changing all the date columns\n",
        "cols=list(x_train.select_dtypes(include=['datetime64[ns]']).columns)\n",
        "for i in cols:\n",
        "  x_train,x_val,x_test = date_separate(i)\n",
        "  x_train,x_val,x_test = dropcols(i)"
      ],
      "execution_count": 60,
      "outputs": []
    },
    {
      "cell_type": "code",
      "metadata": {
        "id": "w2jhaG7Ho9Io"
      },
      "source": [
        "#encoding the cust_payment_terms column and then droping the column\n",
        "payment_term_encode = LabelEncoder()\n",
        "payment_term_encode.fit(train['cust_payment_terms'])\n",
        "x_train['payment_term_enc'] = payment_term_encode.transform(x_train['cust_payment_terms'])\n",
        "x_val['payment_term_enc'] = payment_term_encode.transform(x_val['cust_payment_terms'])\n",
        "x_test['payment_term_enc'] = payment_term_encode.transform(x_test['cust_payment_terms'])\n",
        "x_train,x_val,x_test = dropcols('cust_payment_terms')"
      ],
      "execution_count": 61,
      "outputs": []
    },
    {
      "cell_type": "code",
      "metadata": {
        "id": "Z6Cuksc5o9Ip"
      },
      "source": [
        "#column name_customer is no-relation to predict the delay so we can drop it\n",
        "x_train,x_val,x_test = dropcols('name_customer')"
      ],
      "execution_count": 62,
      "outputs": []
    },
    {
      "cell_type": "code",
      "metadata": {
        "colab": {
          "base_uri": "https://localhost:8080/"
        },
        "id": "sL7GYRQho9Ip",
        "outputId": "fd5f2b8c-4fe5-47d9-e7ca-659a8fa48722"
      },
      "source": [
        "x_train.dtypes #checking the datatypes"
      ],
      "execution_count": 63,
      "outputs": [
        {
          "output_type": "execute_result",
          "data": {
            "text/plain": [
              "cust_number                        object\n",
              "buisness_year                       int64\n",
              "doc_id                            float64\n",
              "total_open_amount                 float64\n",
              "business_code_enc                   int64\n",
              "clear_date_timestamp                int64\n",
              "posting_date_timestamp              int64\n",
              "document_create_date_timestamp      int64\n",
              "due_in_date_timestamp               int64\n",
              "baseline_create_date_timestamp      int64\n",
              "payment_term_enc                    int64\n",
              "dtype: object"
            ]
          },
          "metadata": {
            "tags": []
          },
          "execution_count": 63
        }
      ]
    },
    {
      "cell_type": "code",
      "metadata": {
        "id": "HC9cW3A7o9Ip"
      },
      "source": [
        "#encoding the cust_payment_terms column and then droping the column\n",
        "cust_numb_encode = LabelEncoder()\n",
        "cust_numb_encode.fit(train['cust_number'])\n",
        "x_train['cust_number_enc'] = cust_numb_encode.transform(x_train['cust_number'])\n",
        "x_val['cust_number_enc'] = cust_numb_encode.transform(x_val['cust_number'])\n",
        "x_test['cust_number_enc'] = cust_numb_encode.transform(x_test['cust_number'])\n",
        "x_train,x_val,x_test = dropcols('cust_number')"
      ],
      "execution_count": 64,
      "outputs": []
    },
    {
      "cell_type": "markdown",
      "metadata": {
        "id": "NqCS2rvuGclG"
      },
      "source": [
        "### Removal of Quasi Constants\n"
      ]
    },
    {
      "cell_type": "code",
      "metadata": {
        "colab": {
          "base_uri": "https://localhost:8080/"
        },
        "id": "IIEfxXLko9Ip",
        "outputId": "aa0e87db-9216-46fc-bbc5-480bc1ed1663"
      },
      "source": [
        "#checking the quasi-constant columns\n",
        "sel=VarianceThreshold(threshold=0.1)\n",
        "sel.fit(x_train)\n",
        "quasi_constants=[x for x in x_train.columns if x not in x_train.columns[sel.get_support()]]\n",
        "quasi_constants"
      ],
      "execution_count": 65,
      "outputs": [
        {
          "output_type": "execute_result",
          "data": {
            "text/plain": [
              "['buisness_year']"
            ]
          },
          "metadata": {
            "tags": []
          },
          "execution_count": 65
        }
      ]
    },
    {
      "cell_type": "code",
      "metadata": {
        "id": "0J4DdzCAo9Ip"
      },
      "source": [
        "for i in quasi_constants:\n",
        "  x_train,x_val,x_test=dropcols(i)"
      ],
      "execution_count": 66,
      "outputs": []
    },
    {
      "cell_type": "code",
      "metadata": {
        "colab": {
          "base_uri": "https://localhost:8080/"
        },
        "id": "HUox5BUlo9Ip",
        "outputId": "57c47975-85fe-4427-8e57-94c4d6b9e507"
      },
      "source": [
        "#checking the dtypes of the columns\n",
        "x_train.dtypes"
      ],
      "execution_count": 67,
      "outputs": [
        {
          "output_type": "execute_result",
          "data": {
            "text/plain": [
              "doc_id                            float64\n",
              "total_open_amount                 float64\n",
              "business_code_enc                   int64\n",
              "clear_date_timestamp                int64\n",
              "posting_date_timestamp              int64\n",
              "document_create_date_timestamp      int64\n",
              "due_in_date_timestamp               int64\n",
              "baseline_create_date_timestamp      int64\n",
              "payment_term_enc                    int64\n",
              "cust_number_enc                     int64\n",
              "dtype: object"
            ]
          },
          "metadata": {
            "tags": []
          },
          "execution_count": 67
        }
      ]
    },
    {
      "cell_type": "markdown",
      "metadata": {
        "id": "YwUTwTVWo9Iq"
      },
      "source": [
        "## Feature Selection\n"
      ]
    },
    {
      "cell_type": "code",
      "metadata": {
        "colab": {
          "base_uri": "https://localhost:8080/",
          "height": 903
        },
        "id": "gcsibTeso9Iq",
        "outputId": "53bb7cfc-a6c3-489d-ddcb-7e79bf240dd3"
      },
      "source": [
        "#predicting a heatmap\n",
        "colormap = plt.cm.RdBu\n",
        "plt.figure(figsize=(14,12))\n",
        "plt.title('Pearson Correlation of Features', y=1.05, size=15)\n",
        "sns.heatmap(x_train.merge(y_train , on = x_train.index ).corr(),linewidths=0.1,vmax=1.0, \n",
        "            square=True, cmap=colormap, linecolor='white', annot=True)"
      ],
      "execution_count": 68,
      "outputs": [
        {
          "output_type": "execute_result",
          "data": {
            "text/plain": [
              "<matplotlib.axes._subplots.AxesSubplot at 0x7fcfc03d1290>"
            ]
          },
          "metadata": {
            "tags": []
          },
          "execution_count": 68
        },
        {
          "output_type": "display_data",
          "data": {
            "image/png": "[encoded data removed]",
            "text/plain": [
              "<Figure size 1008x864 with 2 Axes>"
            ]
          },
          "metadata": {
            "tags": [],
            "needs_background": "light"
          }
        }
      ]
    },
    {
      "cell_type": "code",
      "metadata": {
        "id": "trA8fatWo9Iq"
      },
      "source": [
        "#importing the required libraries\n",
        "from mlxtend.feature_selection import SequentialFeatureSelector as SFS\n",
        "from sklearn.ensemble import RandomForestRegressor ,RandomForestClassifier\n",
        "from sklearn.feature_selection import SelectFromModel\n",
        "from sklearn.linear_model import LogisticRegression"
      ],
      "execution_count": 69,
      "outputs": []
    },
    {
      "cell_type": "code",
      "metadata": {
        "id": "VZbjpJfdo9Iq"
      },
      "source": [
        "#selecting the best features using Sequential-Feature-Selector\n",
        "sfs=SFS(RandomForestClassifier(n_jobs=3),\n",
        "        k_features=4,\n",
        "        forward=True,\n",
        "        floating=False,\n",
        "        verbose=2,\n",
        "        scoring='neg_mean_squared_error',\n",
        "        cv=3\n",
        "       )"
      ],
      "execution_count": 70,
      "outputs": []
    },
    {
      "cell_type": "code",
      "metadata": {
        "colab": {
          "base_uri": "https://localhost:8080/"
        },
        "id": "_1fCKTGLo9Iq",
        "outputId": "862ea3fc-4afd-41dc-bb89-d3150cf2e614"
      },
      "source": [
        "#fitting the data\n",
        "sfs=sfs.fit(np.array(x_train),y_train)"
      ],
      "execution_count": 71,
      "outputs": [
        {
          "output_type": "stream",
          "text": [
            "[Parallel(n_jobs=1)]: Using backend SequentialBackend with 1 concurrent workers.\n",
            "[Parallel(n_jobs=1)]: Done   1 out of   1 | elapsed:   36.0s remaining:    0.0s\n",
            "[Parallel(n_jobs=1)]: Done  10 out of  10 | elapsed:  2.9min finished\n",
            "\n",
            "[2021-06-28 14:56:37] Features: 1/4 -- score: -92.89128200904025[Parallel(n_jobs=1)]: Using backend SequentialBackend with 1 concurrent workers.\n",
            "[Parallel(n_jobs=1)]: Done   1 out of   1 | elapsed:   37.3s remaining:    0.0s\n",
            "[Parallel(n_jobs=1)]: Done   9 out of   9 | elapsed:  2.8min finished\n",
            "\n",
            "[2021-06-28 14:59:25] Features: 2/4 -- score: -90.18139266322522[Parallel(n_jobs=1)]: Using backend SequentialBackend with 1 concurrent workers.\n",
            "[Parallel(n_jobs=1)]: Done   1 out of   1 | elapsed:   38.1s remaining:    0.0s\n",
            "[Parallel(n_jobs=1)]: Done   8 out of   8 | elapsed:  2.8min finished\n",
            "\n",
            "[2021-06-28 15:02:14] Features: 3/4 -- score: -99.03486163443115[Parallel(n_jobs=1)]: Using backend SequentialBackend with 1 concurrent workers.\n",
            "[Parallel(n_jobs=1)]: Done   1 out of   1 | elapsed:   40.5s remaining:    0.0s\n",
            "[Parallel(n_jobs=1)]: Done   7 out of   7 | elapsed:  3.1min finished\n",
            "\n",
            "[2021-06-28 15:05:21] Features: 4/4 -- score: -134.76988866539273"
          ],
          "name": "stderr"
        }
      ]
    },
    {
      "cell_type": "code",
      "metadata": {
        "colab": {
          "base_uri": "https://localhost:8080/"
        },
        "id": "3QJ2JwN2o9Iq",
        "outputId": "47865b10-b1e3-4631-e89c-284c3a6e4143"
      },
      "source": [
        "#fetching the selected features using Sequential-Feature-Selector\n",
        "selected_feat=x_train.columns[list(sfs.k_feature_idx_)]\n",
        "selected_feat=list(selected_feat)\n",
        "print(selected_feat)"
      ],
      "execution_count": 72,
      "outputs": [
        {
          "output_type": "stream",
          "text": [
            "['total_open_amount', 'business_code_enc', 'payment_term_enc', 'cust_number_enc']\n"
          ],
          "name": "stdout"
        }
      ]
    },
    {
      "cell_type": "markdown",
      "metadata": {
        "id": "FNGHU1YAo9Ir"
      },
      "source": [
        "### Model Building\n"
      ]
    },
    {
      "cell_type": "code",
      "metadata": {
        "id": "8iOsWX1Oo9Ir"
      },
      "source": [
        "#importing the required libraries\n",
        "from sklearn.neighbors import KNeighborsClassifier\n",
        "from sklearn.linear_model import LogisticRegression\n",
        "from sklearn.tree import DecisionTreeClassifier\n",
        "from sklearn.svm import SVC\n",
        "from xgboost import XGBClassifier\n",
        "from sklearn.metrics import accuracy_score,mean_squared_error"
      ],
      "execution_count": 73,
      "outputs": []
    },
    {
      "cell_type": "code",
      "metadata": {
        "id": "i-v9ua5Io9Ir"
      },
      "source": [
        "#creating  dataframes using the selected features\n",
        "x_m_train=x_train.loc[:,selected_feat]\n",
        "x_m_val=x_val.loc[:,selected_feat]\n",
        "x_m_test=x_test.loc[:,selected_feat]"
      ],
      "execution_count": 74,
      "outputs": []
    },
    {
      "cell_type": "code",
      "metadata": {
        "colab": {
          "base_uri": "https://localhost:8080/"
        },
        "id": "GvTyAJQKo9Ir",
        "outputId": "d80f79b6-0c39-425f-c9db-2db0d7473378"
      },
      "source": [
        "#model building using Logistic Regression\n",
        "model1=LogisticRegression()\n",
        "model1.fit(x_m_train,y_train)"
      ],
      "execution_count": 75,
      "outputs": [
        {
          "output_type": "execute_result",
          "data": {
            "text/plain": [
              "LogisticRegression(C=1.0, class_weight=None, dual=False, fit_intercept=True,\n",
              "                   intercept_scaling=1, l1_ratio=None, max_iter=100,\n",
              "                   multi_class='auto', n_jobs=None, penalty='l2',\n",
              "                   random_state=None, solver='lbfgs', tol=0.0001, verbose=0,\n",
              "                   warm_start=False)"
            ]
          },
          "metadata": {
            "tags": []
          },
          "execution_count": 75
        }
      ]
    },
    {
      "cell_type": "code",
      "metadata": {
        "id": "kc0BvJy0o9Ir"
      },
      "source": [
        "#validating the model1\n",
        "model1_predict=model1.predict(x_m_val)\n",
        "model1_rmse=mean_squared_error(y_val, model1_predict)"
      ],
      "execution_count": 76,
      "outputs": []
    },
    {
      "cell_type": "code",
      "metadata": {
        "colab": {
          "base_uri": "https://localhost:8080/"
        },
        "id": "_08vzNcCo9Ir",
        "outputId": "0c99cba2-027e-446d-dbc2-86b25fe4b794"
      },
      "source": [
        "#model building using SVC\n",
        "model2=SVC()\n",
        "model2.fit(x_m_train,y_train)"
      ],
      "execution_count": 77,
      "outputs": [
        {
          "output_type": "execute_result",
          "data": {
            "text/plain": [
              "SVC(C=1.0, break_ties=False, cache_size=200, class_weight=None, coef0=0.0,\n",
              "    decision_function_shape='ovr', degree=3, gamma='scale', kernel='rbf',\n",
              "    max_iter=-1, probability=False, random_state=None, shrinking=True,\n",
              "    tol=0.001, verbose=False)"
            ]
          },
          "metadata": {
            "tags": []
          },
          "execution_count": 77
        }
      ]
    },
    {
      "cell_type": "code",
      "metadata": {
        "id": "dEBVrIFzo9Ir"
      },
      "source": [
        "#validating the model2\n",
        "model2_predict=model2.predict(x_m_val)\n",
        "model2_rmse=mean_squared_error(y_val, model2_predict,squared=False)"
      ],
      "execution_count": 78,
      "outputs": []
    },
    {
      "cell_type": "code",
      "metadata": {
        "colab": {
          "base_uri": "https://localhost:8080/"
        },
        "id": "V6w_jJNyo9Is",
        "outputId": "5742100e-f08a-4938-e2ab-937a15ef8c5c"
      },
      "source": [
        "#model building using Decision Tree\n",
        "model3=DecisionTreeClassifier()\n",
        "model3.fit(x_m_train,y_train)"
      ],
      "execution_count": 79,
      "outputs": [
        {
          "output_type": "execute_result",
          "data": {
            "text/plain": [
              "DecisionTreeClassifier(ccp_alpha=0.0, class_weight=None, criterion='gini',\n",
              "                       max_depth=None, max_features=None, max_leaf_nodes=None,\n",
              "                       min_impurity_decrease=0.0, min_impurity_split=None,\n",
              "                       min_samples_leaf=1, min_samples_split=2,\n",
              "                       min_weight_fraction_leaf=0.0, presort='deprecated',\n",
              "                       random_state=None, splitter='best')"
            ]
          },
          "metadata": {
            "tags": []
          },
          "execution_count": 79
        }
      ]
    },
    {
      "cell_type": "code",
      "metadata": {
        "id": "253BmKKYo9Is"
      },
      "source": [
        "#validating the model3\n",
        "model3_predict=model3.predict(x_m_val)\n",
        "model3_rmse=mean_squared_error(y_val, model3_predict,squared=False)"
      ],
      "execution_count": 80,
      "outputs": []
    },
    {
      "cell_type": "code",
      "metadata": {
        "colab": {
          "base_uri": "https://localhost:8080/"
        },
        "id": "5yyak6Qfo9Is",
        "outputId": "24116bc5-cd08-41de-a985-53ebfa68529a"
      },
      "source": [
        "#model building using KNN\n",
        "model4=KNeighborsClassifier()\n",
        "model4.fit(x_m_train,y_train)"
      ],
      "execution_count": 81,
      "outputs": [
        {
          "output_type": "execute_result",
          "data": {
            "text/plain": [
              "KNeighborsClassifier(algorithm='auto', leaf_size=30, metric='minkowski',\n",
              "                     metric_params=None, n_jobs=None, n_neighbors=5, p=2,\n",
              "                     weights='uniform')"
            ]
          },
          "metadata": {
            "tags": []
          },
          "execution_count": 81
        }
      ]
    },
    {
      "cell_type": "code",
      "metadata": {
        "id": "cKqu48BDo9Is"
      },
      "source": [
        "#validating the model4\n",
        "model4_predict=model4.predict(x_m_val)\n",
        "model4_rmse=mean_squared_error(y_val, model4_predict,squared=False)"
      ],
      "execution_count": 82,
      "outputs": []
    },
    {
      "cell_type": "code",
      "metadata": {
        "colab": {
          "base_uri": "https://localhost:8080/"
        },
        "id": "mTbzMOu4o9Is",
        "outputId": "60e259a5-d37e-4292-a32a-7b563feadbab"
      },
      "source": [
        "#model building using Random Forest\n",
        "model5=RandomForestClassifier()\n",
        "model5.fit(x_m_train,y_train)"
      ],
      "execution_count": 83,
      "outputs": [
        {
          "output_type": "execute_result",
          "data": {
            "text/plain": [
              "RandomForestClassifier(bootstrap=True, ccp_alpha=0.0, class_weight=None,\n",
              "                       criterion='gini', max_depth=None, max_features='auto',\n",
              "                       max_leaf_nodes=None, max_samples=None,\n",
              "                       min_impurity_decrease=0.0, min_impurity_split=None,\n",
              "                       min_samples_leaf=1, min_samples_split=2,\n",
              "                       min_weight_fraction_leaf=0.0, n_estimators=100,\n",
              "                       n_jobs=None, oob_score=False, random_state=None,\n",
              "                       verbose=0, warm_start=False)"
            ]
          },
          "metadata": {
            "tags": []
          },
          "execution_count": 83
        }
      ]
    },
    {
      "cell_type": "code",
      "metadata": {
        "id": "LGs77woWo9Is"
      },
      "source": [
        "#validating the model5\n",
        "model5_predict=model5.predict(x_m_val)\n",
        "model5_rmse=mean_squared_error(y_val, model5_predict,squared=False)"
      ],
      "execution_count": 84,
      "outputs": []
    },
    {
      "cell_type": "code",
      "metadata": {
        "colab": {
          "base_uri": "https://localhost:8080/"
        },
        "id": "4MLsHTAxo9Is",
        "outputId": "be1e7c9c-de0e-4d3b-f8f9-8723ba16bc36"
      },
      "source": [
        "#model building using XGBoost\n",
        "model6=XGBClassifier()\n",
        "model6.fit(x_m_train,y_train)"
      ],
      "execution_count": 85,
      "outputs": [
        {
          "output_type": "execute_result",
          "data": {
            "text/plain": [
              "XGBClassifier(base_score=0.5, booster='gbtree', colsample_bylevel=1,\n",
              "              colsample_bynode=1, colsample_bytree=1, gamma=0,\n",
              "              learning_rate=0.1, max_delta_step=0, max_depth=3,\n",
              "              min_child_weight=1, missing=None, n_estimators=100, n_jobs=1,\n",
              "              nthread=None, objective='multi:softprob', random_state=0,\n",
              "              reg_alpha=0, reg_lambda=1, scale_pos_weight=1, seed=None,\n",
              "              silent=None, subsample=1, verbosity=1)"
            ]
          },
          "metadata": {
            "tags": []
          },
          "execution_count": 85
        }
      ]
    },
    {
      "cell_type": "code",
      "metadata": {
        "id": "d-UNKV6ko9It"
      },
      "source": [
        "#validating the model6\n",
        "model6_predict=model6.predict(x_m_val)\n",
        "model6_rmse=mean_squared_error(y_val, model6_predict,squared=False)"
      ],
      "execution_count": 86,
      "outputs": []
    },
    {
      "cell_type": "code",
      "metadata": {
        "id": "HrUaDLpWo9It"
      },
      "source": [
        "#comparing all the models\n",
        "data={'model_name':['Logistic Regression model','SVC model','Decision Tree Classifier model','K-Nearest Neighbor model','Random Forest Classifier model','XGBoost model'],\n",
        "      'RMSE':[model1_rmse,model2_rmse,model3_rmse,model4_rmse,model5_rmse,model6_rmse]}\n",
        "modelcom=pd.DataFrame(data)"
      ],
      "execution_count": 87,
      "outputs": []
    },
    {
      "cell_type": "code",
      "metadata": {
        "colab": {
          "base_uri": "https://localhost:8080/",
          "height": 237
        },
        "id": "YGtgG6-Zo9It",
        "outputId": "de966eac-9fe0-449b-e2a4-480eef5282da"
      },
      "source": [
        "#view the modelcom dataframe\n",
        "modelcom.head(10)"
      ],
      "execution_count": 88,
      "outputs": [
        {
          "output_type": "execute_result",
          "data": {
            "text/html": [
              "<div>\n",
              "<style scoped>\n",
              "    .dataframe tbody tr th:only-of-type {\n",
              "        vertical-align: middle;\n",
              "    }\n",
              "\n",
              "    .dataframe tbody tr th {\n",
              "        vertical-align: top;\n",
              "    }\n",
              "\n",
              "    .dataframe thead th {\n",
              "        text-align: right;\n",
              "    }\n",
              "</style>\n",
              "<table border=\"1\" class=\"dataframe\">\n",
              "  <thead>\n",
              "    <tr style=\"text-align: right;\">\n",
              "      <th></th>\n",
              "      <th>model_name</th>\n",
              "      <th>RMSE</th>\n",
              "    </tr>\n",
              "  </thead>\n",
              "  <tbody>\n",
              "    <tr>\n",
              "      <th>0</th>\n",
              "      <td>Logistic Regression model</td>\n",
              "      <td>77.972493</td>\n",
              "    </tr>\n",
              "    <tr>\n",
              "      <th>1</th>\n",
              "      <td>SVC model</td>\n",
              "      <td>8.835073</td>\n",
              "    </tr>\n",
              "    <tr>\n",
              "      <th>2</th>\n",
              "      <td>Decision Tree Classifier model</td>\n",
              "      <td>9.964240</td>\n",
              "    </tr>\n",
              "    <tr>\n",
              "      <th>3</th>\n",
              "      <td>K-Nearest Neighbor model</td>\n",
              "      <td>12.537805</td>\n",
              "    </tr>\n",
              "    <tr>\n",
              "      <th>4</th>\n",
              "      <td>Random Forest Classifier model</td>\n",
              "      <td>9.588430</td>\n",
              "    </tr>\n",
              "    <tr>\n",
              "      <th>5</th>\n",
              "      <td>XGBoost model</td>\n",
              "      <td>7.733819</td>\n",
              "    </tr>\n",
              "  </tbody>\n",
              "</table>\n",
              "</div>"
            ],
            "text/plain": [
              "                       model_name       RMSE\n",
              "0       Logistic Regression model  77.972493\n",
              "1                       SVC model   8.835073\n",
              "2  Decision Tree Classifier model   9.964240\n",
              "3        K-Nearest Neighbor model  12.537805\n",
              "4  Random Forest Classifier model   9.588430\n",
              "5                   XGBoost model   7.733819"
            ]
          },
          "metadata": {
            "tags": []
          },
          "execution_count": 88
        }
      ]
    },
    {
      "cell_type": "code",
      "metadata": {
        "colab": {
          "base_uri": "https://localhost:8080/"
        },
        "id": "kq71Z3P-o9It",
        "outputId": "e0a19ee6-4704-4e54-a8e1-0a78c41a2098"
      },
      "source": [
        "#XGBoost model is giving the minimum MSE so selecing that model\n",
        "y_predict=model6.predict(x_m_test)\n",
        "rmse=mean_squared_error(y_test,y_predict,squared=False)\n",
        "mat = pd.DataFrame(zip(y_predict , y_test),columns=['Predicted','Actuals'])\n",
        "print(f\"The MSE of the model on the test data is {rmse}\")"
      ],
      "execution_count": 89,
      "outputs": [
        {
          "output_type": "stream",
          "text": [
            "The MSE of the model on the test data is 9.730583230207735\n"
          ],
          "name": "stdout"
        }
      ]
    },
    {
      "cell_type": "code",
      "metadata": {
        "colab": {
          "base_uri": "https://localhost:8080/",
          "height": 206
        },
        "id": "GWM26Bino9It",
        "outputId": "7e9f02a6-7f32-46e1-9a84-f2d5a424d0a8"
      },
      "source": [
        "#viewing the mat dataframe\n",
        "mat.head()"
      ],
      "execution_count": 90,
      "outputs": [
        {
          "output_type": "execute_result",
          "data": {
            "text/html": [
              "<div>\n",
              "<style scoped>\n",
              "    .dataframe tbody tr th:only-of-type {\n",
              "        vertical-align: middle;\n",
              "    }\n",
              "\n",
              "    .dataframe tbody tr th {\n",
              "        vertical-align: top;\n",
              "    }\n",
              "\n",
              "    .dataframe thead th {\n",
              "        text-align: right;\n",
              "    }\n",
              "</style>\n",
              "<table border=\"1\" class=\"dataframe\">\n",
              "  <thead>\n",
              "    <tr style=\"text-align: right;\">\n",
              "      <th></th>\n",
              "      <th>Predicted</th>\n",
              "      <th>Actuals</th>\n",
              "    </tr>\n",
              "  </thead>\n",
              "  <tbody>\n",
              "    <tr>\n",
              "      <th>0</th>\n",
              "      <td>0</td>\n",
              "      <td>-5</td>\n",
              "    </tr>\n",
              "    <tr>\n",
              "      <th>1</th>\n",
              "      <td>0</td>\n",
              "      <td>0</td>\n",
              "    </tr>\n",
              "    <tr>\n",
              "      <th>2</th>\n",
              "      <td>0</td>\n",
              "      <td>0</td>\n",
              "    </tr>\n",
              "    <tr>\n",
              "      <th>3</th>\n",
              "      <td>0</td>\n",
              "      <td>7</td>\n",
              "    </tr>\n",
              "    <tr>\n",
              "      <th>4</th>\n",
              "      <td>1</td>\n",
              "      <td>13</td>\n",
              "    </tr>\n",
              "  </tbody>\n",
              "</table>\n",
              "</div>"
            ],
            "text/plain": [
              "   Predicted  Actuals\n",
              "0          0       -5\n",
              "1          0        0\n",
              "2          0        0\n",
              "3          0        7\n",
              "4          1       13"
            ]
          },
          "metadata": {
            "tags": []
          },
          "execution_count": 90
        }
      ]
    },
    {
      "cell_type": "markdown",
      "metadata": {
        "id": "JTbDHUZQGclM"
      },
      "source": [
        "### Predicting the test set\n"
      ]
    },
    {
      "cell_type": "code",
      "metadata": {
        "colab": {
          "base_uri": "https://localhost:8080/",
          "height": 261
        },
        "id": "xx1PlxJbo9Iu",
        "outputId": "cff834bf-5f14-4361-f442-957c9cd23343"
      },
      "source": [
        "#Prediction on the missing data\n",
        "#view the data\n",
        "test.head()"
      ],
      "execution_count": 91,
      "outputs": [
        {
          "output_type": "execute_result",
          "data": {
            "text/html": [
              "<div>\n",
              "<style scoped>\n",
              "    .dataframe tbody tr th:only-of-type {\n",
              "        vertical-align: middle;\n",
              "    }\n",
              "\n",
              "    .dataframe tbody tr th {\n",
              "        vertical-align: top;\n",
              "    }\n",
              "\n",
              "    .dataframe thead th {\n",
              "        text-align: right;\n",
              "    }\n",
              "</style>\n",
              "<table border=\"1\" class=\"dataframe\">\n",
              "  <thead>\n",
              "    <tr style=\"text-align: right;\">\n",
              "      <th></th>\n",
              "      <th>business_code</th>\n",
              "      <th>cust_number</th>\n",
              "      <th>name_customer</th>\n",
              "      <th>clear_date</th>\n",
              "      <th>buisness_year</th>\n",
              "      <th>doc_id</th>\n",
              "      <th>posting_date</th>\n",
              "      <th>document_create_date</th>\n",
              "      <th>document_create_date.1</th>\n",
              "      <th>due_in_date</th>\n",
              "      <th>invoice_currency</th>\n",
              "      <th>document type</th>\n",
              "      <th>posting_id</th>\n",
              "      <th>area_business</th>\n",
              "      <th>total_open_amount</th>\n",
              "      <th>baseline_create_date</th>\n",
              "      <th>cust_payment_terms</th>\n",
              "      <th>invoice_id</th>\n",
              "      <th>isOpen</th>\n",
              "    </tr>\n",
              "  </thead>\n",
              "  <tbody>\n",
              "    <tr>\n",
              "      <th>3</th>\n",
              "      <td>U001</td>\n",
              "      <td>0200769623</td>\n",
              "      <td>WAL-MAR in</td>\n",
              "      <td>NaT</td>\n",
              "      <td>2020.0</td>\n",
              "      <td>1.930638e+09</td>\n",
              "      <td>2020-03-11</td>\n",
              "      <td>2020-03-11</td>\n",
              "      <td>2020-03-11</td>\n",
              "      <td>2020-03-26</td>\n",
              "      <td>USD</td>\n",
              "      <td>RV</td>\n",
              "      <td>1.0</td>\n",
              "      <td>NaN</td>\n",
              "      <td>50124.60</td>\n",
              "      <td>2020-03-11</td>\n",
              "      <td>NAH4</td>\n",
              "      <td>1.930638e+09</td>\n",
              "      <td>1</td>\n",
              "    </tr>\n",
              "    <tr>\n",
              "      <th>8</th>\n",
              "      <td>U001</td>\n",
              "      <td>0200759878</td>\n",
              "      <td>SA</td>\n",
              "      <td>NaT</td>\n",
              "      <td>2020.0</td>\n",
              "      <td>1.930730e+09</td>\n",
              "      <td>2020-04-03</td>\n",
              "      <td>2020-04-01</td>\n",
              "      <td>2020-04-03</td>\n",
              "      <td>2020-04-18</td>\n",
              "      <td>USD</td>\n",
              "      <td>RV</td>\n",
              "      <td>1.0</td>\n",
              "      <td>NaN</td>\n",
              "      <td>13603.02</td>\n",
              "      <td>2020-04-03</td>\n",
              "      <td>NAH4</td>\n",
              "      <td>1.930730e+09</td>\n",
              "      <td>1</td>\n",
              "    </tr>\n",
              "    <tr>\n",
              "      <th>9</th>\n",
              "      <td>U001</td>\n",
              "      <td>0200749225</td>\n",
              "      <td>SUPER  foundation</td>\n",
              "      <td>NaT</td>\n",
              "      <td>2020.0</td>\n",
              "      <td>1.930718e+09</td>\n",
              "      <td>2020-03-30</td>\n",
              "      <td>2020-03-29</td>\n",
              "      <td>2020-03-30</td>\n",
              "      <td>2020-04-14</td>\n",
              "      <td>USD</td>\n",
              "      <td>RV</td>\n",
              "      <td>1.0</td>\n",
              "      <td>NaN</td>\n",
              "      <td>98963.00</td>\n",
              "      <td>2020-03-30</td>\n",
              "      <td>NAA8</td>\n",
              "      <td>1.930718e+09</td>\n",
              "      <td>1</td>\n",
              "    </tr>\n",
              "    <tr>\n",
              "      <th>19</th>\n",
              "      <td>U001</td>\n",
              "      <td>0200797984</td>\n",
              "      <td>PIGGLY us</td>\n",
              "      <td>NaT</td>\n",
              "      <td>2020.0</td>\n",
              "      <td>1.930598e+09</td>\n",
              "      <td>2020-03-05</td>\n",
              "      <td>2020-03-04</td>\n",
              "      <td>2020-03-05</td>\n",
              "      <td>2020-03-20</td>\n",
              "      <td>USD</td>\n",
              "      <td>RV</td>\n",
              "      <td>1.0</td>\n",
              "      <td>NaN</td>\n",
              "      <td>20573.78</td>\n",
              "      <td>2020-03-05</td>\n",
              "      <td>NAA8</td>\n",
              "      <td>1.930598e+09</td>\n",
              "      <td>1</td>\n",
              "    </tr>\n",
              "    <tr>\n",
              "      <th>25</th>\n",
              "      <td>U001</td>\n",
              "      <td>0200792734</td>\n",
              "      <td>MDV/ co</td>\n",
              "      <td>NaT</td>\n",
              "      <td>2020.0</td>\n",
              "      <td>1.930740e+09</td>\n",
              "      <td>2020-04-03</td>\n",
              "      <td>2020-04-03</td>\n",
              "      <td>2020-04-03</td>\n",
              "      <td>2020-04-18</td>\n",
              "      <td>USD</td>\n",
              "      <td>RV</td>\n",
              "      <td>1.0</td>\n",
              "      <td>NaN</td>\n",
              "      <td>25162.58</td>\n",
              "      <td>2020-04-03</td>\n",
              "      <td>NAA8</td>\n",
              "      <td>1.930740e+09</td>\n",
              "      <td>1</td>\n",
              "    </tr>\n",
              "  </tbody>\n",
              "</table>\n",
              "</div>"
            ],
            "text/plain": [
              "   business_code cust_number  ...    invoice_id isOpen\n",
              "3           U001  0200769623  ...  1.930638e+09      1\n",
              "8           U001  0200759878  ...  1.930730e+09      1\n",
              "9           U001  0200749225  ...  1.930718e+09      1\n",
              "19          U001  0200797984  ...  1.930598e+09      1\n",
              "25          U001  0200792734  ...  1.930740e+09      1\n",
              "\n",
              "[5 rows x 19 columns]"
            ]
          },
          "metadata": {
            "tags": []
          },
          "execution_count": 91
        }
      ]
    },
    {
      "cell_type": "code",
      "metadata": {
        "colab": {
          "base_uri": "https://localhost:8080/"
        },
        "id": "VYq06cXgvBOm",
        "outputId": "11047cde-e02f-495a-ec1a-d4bc711e6c27"
      },
      "source": [
        "test.business_code.value_counts()"
      ],
      "execution_count": 92,
      "outputs": [
        {
          "output_type": "execute_result",
          "data": {
            "text/plain": [
              "U001    9211\n",
              "CA02     703\n",
              "U013      60\n",
              "U002      23\n",
              "U005       3\n",
              "Name: business_code, dtype: int64"
            ]
          },
          "metadata": {
            "tags": []
          },
          "execution_count": 92
        }
      ]
    },
    {
      "cell_type": "code",
      "metadata": {
        "colab": {
          "base_uri": "https://localhost:8080/",
          "height": 206
        },
        "id": "GTrzC54mo9Iu",
        "outputId": "841c80e7-872c-4fa2-e34f-c8649b6dfee3"
      },
      "source": [
        "#fetching the selcted features on which prediction is to be made\n",
        "data=test.loc[:,['invoice_currency','total_open_amount','business_code','cust_number','cust_payment_terms']]\n",
        "data.head()"
      ],
      "execution_count": 93,
      "outputs": [
        {
          "output_type": "execute_result",
          "data": {
            "text/html": [
              "<div>\n",
              "<style scoped>\n",
              "    .dataframe tbody tr th:only-of-type {\n",
              "        vertical-align: middle;\n",
              "    }\n",
              "\n",
              "    .dataframe tbody tr th {\n",
              "        vertical-align: top;\n",
              "    }\n",
              "\n",
              "    .dataframe thead th {\n",
              "        text-align: right;\n",
              "    }\n",
              "</style>\n",
              "<table border=\"1\" class=\"dataframe\">\n",
              "  <thead>\n",
              "    <tr style=\"text-align: right;\">\n",
              "      <th></th>\n",
              "      <th>invoice_currency</th>\n",
              "      <th>total_open_amount</th>\n",
              "      <th>business_code</th>\n",
              "      <th>cust_number</th>\n",
              "      <th>cust_payment_terms</th>\n",
              "    </tr>\n",
              "  </thead>\n",
              "  <tbody>\n",
              "    <tr>\n",
              "      <th>3</th>\n",
              "      <td>USD</td>\n",
              "      <td>50124.60</td>\n",
              "      <td>U001</td>\n",
              "      <td>0200769623</td>\n",
              "      <td>NAH4</td>\n",
              "    </tr>\n",
              "    <tr>\n",
              "      <th>8</th>\n",
              "      <td>USD</td>\n",
              "      <td>13603.02</td>\n",
              "      <td>U001</td>\n",
              "      <td>0200759878</td>\n",
              "      <td>NAH4</td>\n",
              "    </tr>\n",
              "    <tr>\n",
              "      <th>9</th>\n",
              "      <td>USD</td>\n",
              "      <td>98963.00</td>\n",
              "      <td>U001</td>\n",
              "      <td>0200749225</td>\n",
              "      <td>NAA8</td>\n",
              "    </tr>\n",
              "    <tr>\n",
              "      <th>19</th>\n",
              "      <td>USD</td>\n",
              "      <td>20573.78</td>\n",
              "      <td>U001</td>\n",
              "      <td>0200797984</td>\n",
              "      <td>NAA8</td>\n",
              "    </tr>\n",
              "    <tr>\n",
              "      <th>25</th>\n",
              "      <td>USD</td>\n",
              "      <td>25162.58</td>\n",
              "      <td>U001</td>\n",
              "      <td>0200792734</td>\n",
              "      <td>NAA8</td>\n",
              "    </tr>\n",
              "  </tbody>\n",
              "</table>\n",
              "</div>"
            ],
            "text/plain": [
              "   invoice_currency  total_open_amount  ... cust_number cust_payment_terms\n",
              "3               USD           50124.60  ...  0200769623               NAH4\n",
              "8               USD           13603.02  ...  0200759878               NAH4\n",
              "9               USD           98963.00  ...  0200749225               NAA8\n",
              "19              USD           20573.78  ...  0200797984               NAA8\n",
              "25              USD           25162.58  ...  0200792734               NAA8\n",
              "\n",
              "[5 rows x 5 columns]"
            ]
          },
          "metadata": {
            "tags": []
          },
          "execution_count": 93
        }
      ]
    },
    {
      "cell_type": "code",
      "metadata": {
        "id": "_JCE_SjUo9Iv"
      },
      "source": [
        "#converting the curency\n",
        "for i in range (len(data)):\n",
        "        if data.iloc[i,0]==\"CAD\":\n",
        "            data.iloc[i,1]= c.convert(data.iloc[i,1],'USD','CAD')\n",
        "            data.invoice_currency='USD'"
      ],
      "execution_count": 94,
      "outputs": []
    },
    {
      "cell_type": "code",
      "metadata": {
        "colab": {
          "base_uri": "https://localhost:8080/"
        },
        "id": "AtT4d7x2vxvW",
        "outputId": "0501319b-c9a0-495c-cca3-a18d06af9713"
      },
      "source": [
        "#looking at the different values and their frequencies\n",
        "data.business_code.value_counts()"
      ],
      "execution_count": 95,
      "outputs": [
        {
          "output_type": "execute_result",
          "data": {
            "text/plain": [
              "U001    9211\n",
              "CA02     703\n",
              "U013      60\n",
              "U002      23\n",
              "U005       3\n",
              "Name: business_code, dtype: int64"
            ]
          },
          "metadata": {
            "tags": []
          },
          "execution_count": 95
        }
      ]
    },
    {
      "cell_type": "code",
      "metadata": {
        "id": "rkNdQO0mo9Iv"
      },
      "source": [
        "#reseting the indexes\n",
        "data=data.reset_index(drop=True)"
      ],
      "execution_count": 96,
      "outputs": []
    },
    {
      "cell_type": "code",
      "metadata": {
        "id": "T_Q-78Xko9Iv"
      },
      "source": [
        "#encoding the business_code\n",
        "data['business_code'] = np.where(data['business_code'].isin(mask_obs_business_code)==False,\"Other\",data['business_code'])\n",
        "data['business_code_enc'] = encode.transform(data['business_code'])\n",
        "data.drop(columns=['business_code'],axis=1,inplace=True)"
      ],
      "execution_count": 97,
      "outputs": []
    },
    {
      "cell_type": "code",
      "metadata": {
        "id": "5psKxHfVo9Iv"
      },
      "source": [
        "#encode the cust_payment_terms\n",
        "payment_term_encode = LabelEncoder()\n",
        "payment_term_encode.fit(test['cust_payment_terms'])\n",
        "data['payment_term_enc'] = payment_term_encode.transform(data['cust_payment_terms'])\n",
        "data.drop(columns=['cust_payment_terms'],axis=1,inplace=True)"
      ],
      "execution_count": 98,
      "outputs": []
    },
    {
      "cell_type": "code",
      "metadata": {
        "colab": {
          "base_uri": "https://localhost:8080/"
        },
        "id": "2OETIkbeo9Iw",
        "outputId": "7785e62d-97ac-4631-aa03-2527757e9447"
      },
      "source": [
        "#grouping some values of cust_number values\n",
        "frequencies=data.cust_number.value_counts()\n",
        "condition=frequencies<500\n",
        "mask_obs=frequencies[condition].index\n",
        "mask_dict=dict.fromkeys(mask_obs,'other')\n",
        "data['cust_number']=data['cust_number'].replace(mask_dict)\n",
        "data.cust_number.value_counts()"
      ],
      "execution_count": 99,
      "outputs": [
        {
          "output_type": "execute_result",
          "data": {
            "text/plain": [
              "other         7376\n",
              "0200769623    2624\n",
              "Name: cust_number, dtype: int64"
            ]
          },
          "metadata": {
            "tags": []
          },
          "execution_count": 99
        }
      ]
    },
    {
      "cell_type": "code",
      "metadata": {
        "id": "KEnRdyhiXt1N"
      },
      "source": [
        "#encoding the cust_number\n",
        "data['cust_number_enc'] = cust_numb_encode.transform(data['cust_number'])\n",
        "data.drop(columns=['cust_number'],axis=1,inplace=True)"
      ],
      "execution_count": 100,
      "outputs": []
    },
    {
      "cell_type": "code",
      "metadata": {
        "colab": {
          "base_uri": "https://localhost:8080/",
          "height": 206
        },
        "id": "YpFww2taSlJO",
        "outputId": "9c38018e-674e-42ab-aefb-fafcbd9deefd"
      },
      "source": [
        "data.head()"
      ],
      "execution_count": 101,
      "outputs": [
        {
          "output_type": "execute_result",
          "data": {
            "text/html": [
              "<div>\n",
              "<style scoped>\n",
              "    .dataframe tbody tr th:only-of-type {\n",
              "        vertical-align: middle;\n",
              "    }\n",
              "\n",
              "    .dataframe tbody tr th {\n",
              "        vertical-align: top;\n",
              "    }\n",
              "\n",
              "    .dataframe thead th {\n",
              "        text-align: right;\n",
              "    }\n",
              "</style>\n",
              "<table border=\"1\" class=\"dataframe\">\n",
              "  <thead>\n",
              "    <tr style=\"text-align: right;\">\n",
              "      <th></th>\n",
              "      <th>invoice_currency</th>\n",
              "      <th>total_open_amount</th>\n",
              "      <th>business_code_enc</th>\n",
              "      <th>payment_term_enc</th>\n",
              "      <th>cust_number_enc</th>\n",
              "    </tr>\n",
              "  </thead>\n",
              "  <tbody>\n",
              "    <tr>\n",
              "      <th>0</th>\n",
              "      <td>USD</td>\n",
              "      <td>50124.60</td>\n",
              "      <td>2</td>\n",
              "      <td>27</td>\n",
              "      <td>6</td>\n",
              "    </tr>\n",
              "    <tr>\n",
              "      <th>1</th>\n",
              "      <td>USD</td>\n",
              "      <td>13603.02</td>\n",
              "      <td>2</td>\n",
              "      <td>27</td>\n",
              "      <td>11</td>\n",
              "    </tr>\n",
              "    <tr>\n",
              "      <th>2</th>\n",
              "      <td>USD</td>\n",
              "      <td>98963.00</td>\n",
              "      <td>2</td>\n",
              "      <td>12</td>\n",
              "      <td>11</td>\n",
              "    </tr>\n",
              "    <tr>\n",
              "      <th>3</th>\n",
              "      <td>USD</td>\n",
              "      <td>20573.78</td>\n",
              "      <td>2</td>\n",
              "      <td>12</td>\n",
              "      <td>11</td>\n",
              "    </tr>\n",
              "    <tr>\n",
              "      <th>4</th>\n",
              "      <td>USD</td>\n",
              "      <td>25162.58</td>\n",
              "      <td>2</td>\n",
              "      <td>12</td>\n",
              "      <td>11</td>\n",
              "    </tr>\n",
              "  </tbody>\n",
              "</table>\n",
              "</div>"
            ],
            "text/plain": [
              "  invoice_currency  total_open_amount  ...  payment_term_enc  cust_number_enc\n",
              "0              USD           50124.60  ...                27                6\n",
              "1              USD           13603.02  ...                27               11\n",
              "2              USD           98963.00  ...                12               11\n",
              "3              USD           20573.78  ...                12               11\n",
              "4              USD           25162.58  ...                12               11\n",
              "\n",
              "[5 rows x 5 columns]"
            ]
          },
          "metadata": {
            "tags": []
          },
          "execution_count": 101
        }
      ]
    },
    {
      "cell_type": "code",
      "metadata": {
        "id": "Oi9PyvLho9Iw"
      },
      "source": [
        "#droping the invoice_currency column\n",
        "data.drop(columns=['invoice_currency'],axis=1,inplace=True)"
      ],
      "execution_count": 102,
      "outputs": []
    },
    {
      "cell_type": "code",
      "metadata": {
        "colab": {
          "base_uri": "https://localhost:8080/"
        },
        "id": "6CI5HLpQSXov",
        "outputId": "e2e06898-88b1-4b83-b0be-9b31171b3d48"
      },
      "source": [
        "data.dtypes"
      ],
      "execution_count": 103,
      "outputs": [
        {
          "output_type": "execute_result",
          "data": {
            "text/plain": [
              "total_open_amount    float64\n",
              "business_code_enc      int64\n",
              "payment_term_enc       int64\n",
              "cust_number_enc        int64\n",
              "dtype: object"
            ]
          },
          "metadata": {
            "tags": []
          },
          "execution_count": 103
        }
      ]
    },
    {
      "cell_type": "code",
      "metadata": {
        "id": "I3tei_Wlo9Iw"
      },
      "source": [
        "#making the prediction\n",
        "predict=model6.predict(data)"
      ],
      "execution_count": 104,
      "outputs": []
    },
    {
      "cell_type": "code",
      "metadata": {
        "colab": {
          "base_uri": "https://localhost:8080/",
          "height": 261
        },
        "id": "tHzsohnqo9Iw",
        "outputId": "87c5f878-676e-4007-ec95-35619ee62fc4"
      },
      "source": [
        "test.head()"
      ],
      "execution_count": 105,
      "outputs": [
        {
          "output_type": "execute_result",
          "data": {
            "text/html": [
              "<div>\n",
              "<style scoped>\n",
              "    .dataframe tbody tr th:only-of-type {\n",
              "        vertical-align: middle;\n",
              "    }\n",
              "\n",
              "    .dataframe tbody tr th {\n",
              "        vertical-align: top;\n",
              "    }\n",
              "\n",
              "    .dataframe thead th {\n",
              "        text-align: right;\n",
              "    }\n",
              "</style>\n",
              "<table border=\"1\" class=\"dataframe\">\n",
              "  <thead>\n",
              "    <tr style=\"text-align: right;\">\n",
              "      <th></th>\n",
              "      <th>business_code</th>\n",
              "      <th>cust_number</th>\n",
              "      <th>name_customer</th>\n",
              "      <th>clear_date</th>\n",
              "      <th>buisness_year</th>\n",
              "      <th>doc_id</th>\n",
              "      <th>posting_date</th>\n",
              "      <th>document_create_date</th>\n",
              "      <th>document_create_date.1</th>\n",
              "      <th>due_in_date</th>\n",
              "      <th>invoice_currency</th>\n",
              "      <th>document type</th>\n",
              "      <th>posting_id</th>\n",
              "      <th>area_business</th>\n",
              "      <th>total_open_amount</th>\n",
              "      <th>baseline_create_date</th>\n",
              "      <th>cust_payment_terms</th>\n",
              "      <th>invoice_id</th>\n",
              "      <th>isOpen</th>\n",
              "    </tr>\n",
              "  </thead>\n",
              "  <tbody>\n",
              "    <tr>\n",
              "      <th>3</th>\n",
              "      <td>U001</td>\n",
              "      <td>0200769623</td>\n",
              "      <td>WAL-MAR in</td>\n",
              "      <td>NaT</td>\n",
              "      <td>2020.0</td>\n",
              "      <td>1.930638e+09</td>\n",
              "      <td>2020-03-11</td>\n",
              "      <td>2020-03-11</td>\n",
              "      <td>2020-03-11</td>\n",
              "      <td>2020-03-26</td>\n",
              "      <td>USD</td>\n",
              "      <td>RV</td>\n",
              "      <td>1.0</td>\n",
              "      <td>NaN</td>\n",
              "      <td>50124.60</td>\n",
              "      <td>2020-03-11</td>\n",
              "      <td>NAH4</td>\n",
              "      <td>1.930638e+09</td>\n",
              "      <td>1</td>\n",
              "    </tr>\n",
              "    <tr>\n",
              "      <th>8</th>\n",
              "      <td>U001</td>\n",
              "      <td>0200759878</td>\n",
              "      <td>SA</td>\n",
              "      <td>NaT</td>\n",
              "      <td>2020.0</td>\n",
              "      <td>1.930730e+09</td>\n",
              "      <td>2020-04-03</td>\n",
              "      <td>2020-04-01</td>\n",
              "      <td>2020-04-03</td>\n",
              "      <td>2020-04-18</td>\n",
              "      <td>USD</td>\n",
              "      <td>RV</td>\n",
              "      <td>1.0</td>\n",
              "      <td>NaN</td>\n",
              "      <td>13603.02</td>\n",
              "      <td>2020-04-03</td>\n",
              "      <td>NAH4</td>\n",
              "      <td>1.930730e+09</td>\n",
              "      <td>1</td>\n",
              "    </tr>\n",
              "    <tr>\n",
              "      <th>9</th>\n",
              "      <td>U001</td>\n",
              "      <td>0200749225</td>\n",
              "      <td>SUPER  foundation</td>\n",
              "      <td>NaT</td>\n",
              "      <td>2020.0</td>\n",
              "      <td>1.930718e+09</td>\n",
              "      <td>2020-03-30</td>\n",
              "      <td>2020-03-29</td>\n",
              "      <td>2020-03-30</td>\n",
              "      <td>2020-04-14</td>\n",
              "      <td>USD</td>\n",
              "      <td>RV</td>\n",
              "      <td>1.0</td>\n",
              "      <td>NaN</td>\n",
              "      <td>98963.00</td>\n",
              "      <td>2020-03-30</td>\n",
              "      <td>NAA8</td>\n",
              "      <td>1.930718e+09</td>\n",
              "      <td>1</td>\n",
              "    </tr>\n",
              "    <tr>\n",
              "      <th>19</th>\n",
              "      <td>U001</td>\n",
              "      <td>0200797984</td>\n",
              "      <td>PIGGLY us</td>\n",
              "      <td>NaT</td>\n",
              "      <td>2020.0</td>\n",
              "      <td>1.930598e+09</td>\n",
              "      <td>2020-03-05</td>\n",
              "      <td>2020-03-04</td>\n",
              "      <td>2020-03-05</td>\n",
              "      <td>2020-03-20</td>\n",
              "      <td>USD</td>\n",
              "      <td>RV</td>\n",
              "      <td>1.0</td>\n",
              "      <td>NaN</td>\n",
              "      <td>20573.78</td>\n",
              "      <td>2020-03-05</td>\n",
              "      <td>NAA8</td>\n",
              "      <td>1.930598e+09</td>\n",
              "      <td>1</td>\n",
              "    </tr>\n",
              "    <tr>\n",
              "      <th>25</th>\n",
              "      <td>U001</td>\n",
              "      <td>0200792734</td>\n",
              "      <td>MDV/ co</td>\n",
              "      <td>NaT</td>\n",
              "      <td>2020.0</td>\n",
              "      <td>1.930740e+09</td>\n",
              "      <td>2020-04-03</td>\n",
              "      <td>2020-04-03</td>\n",
              "      <td>2020-04-03</td>\n",
              "      <td>2020-04-18</td>\n",
              "      <td>USD</td>\n",
              "      <td>RV</td>\n",
              "      <td>1.0</td>\n",
              "      <td>NaN</td>\n",
              "      <td>25162.58</td>\n",
              "      <td>2020-04-03</td>\n",
              "      <td>NAA8</td>\n",
              "      <td>1.930740e+09</td>\n",
              "      <td>1</td>\n",
              "    </tr>\n",
              "  </tbody>\n",
              "</table>\n",
              "</div>"
            ],
            "text/plain": [
              "   business_code cust_number  ...    invoice_id isOpen\n",
              "3           U001  0200769623  ...  1.930638e+09      1\n",
              "8           U001  0200759878  ...  1.930730e+09      1\n",
              "9           U001  0200749225  ...  1.930718e+09      1\n",
              "19          U001  0200797984  ...  1.930598e+09      1\n",
              "25          U001  0200792734  ...  1.930740e+09      1\n",
              "\n",
              "[5 rows x 19 columns]"
            ]
          },
          "metadata": {
            "tags": []
          },
          "execution_count": 105
        }
      ]
    },
    {
      "cell_type": "code",
      "metadata": {
        "id": "jnDVXG30o9Iw"
      },
      "source": [
        "#merging into the dataframe\n",
        "test=test.reset_index(drop=True)\n",
        "predictiondf=test.merge(pd.Series(predict,name='delay') , on = test.index)"
      ],
      "execution_count": 106,
      "outputs": []
    },
    {
      "cell_type": "code",
      "metadata": {
        "colab": {
          "base_uri": "https://localhost:8080/"
        },
        "id": "c55W5AAHxR25",
        "outputId": "68a2104a-39e3-4c16-8f88-696874055653"
      },
      "source": [
        "predictiondf.delay.min(),predictiondf.delay.max()"
      ],
      "execution_count": 107,
      "outputs": [
        {
          "output_type": "execute_result",
          "data": {
            "text/plain": [
              "(-65, 30)"
            ]
          },
          "metadata": {
            "tags": []
          },
          "execution_count": 107
        }
      ]
    },
    {
      "cell_type": "code",
      "metadata": {
        "id": "wpEwolspo9Ix"
      },
      "source": [
        "#converting the delay values in to days\n",
        "predictiondf['delay']=pd.to_timedelta(predictiondf['delay'], unit='D')"
      ],
      "execution_count": 108,
      "outputs": []
    },
    {
      "cell_type": "code",
      "metadata": {
        "id": "Z7QFLm5yo9Ix"
      },
      "source": [
        "#predicting the clear_date\n",
        "predictiondf['clear_date']=predictiondf['due_in_date']-predictiondf['delay']"
      ],
      "execution_count": 109,
      "outputs": []
    },
    {
      "cell_type": "code",
      "metadata": {
        "colab": {
          "base_uri": "https://localhost:8080/",
          "height": 330
        },
        "id": "27d5NMmfo9Ix",
        "outputId": "4b20f170-7cb6-4d75-9fcc-4baf11adf709"
      },
      "source": [
        "#view the final prediction dataframe \n",
        "predictiondf.head()"
      ],
      "execution_count": 110,
      "outputs": [
        {
          "output_type": "execute_result",
          "data": {
            "text/html": [
              "<div>\n",
              "<style scoped>\n",
              "    .dataframe tbody tr th:only-of-type {\n",
              "        vertical-align: middle;\n",
              "    }\n",
              "\n",
              "    .dataframe tbody tr th {\n",
              "        vertical-align: top;\n",
              "    }\n",
              "\n",
              "    .dataframe thead th {\n",
              "        text-align: right;\n",
              "    }\n",
              "</style>\n",
              "<table border=\"1\" class=\"dataframe\">\n",
              "  <thead>\n",
              "    <tr style=\"text-align: right;\">\n",
              "      <th></th>\n",
              "      <th>key_0</th>\n",
              "      <th>business_code</th>\n",
              "      <th>cust_number</th>\n",
              "      <th>name_customer</th>\n",
              "      <th>clear_date</th>\n",
              "      <th>buisness_year</th>\n",
              "      <th>doc_id</th>\n",
              "      <th>posting_date</th>\n",
              "      <th>document_create_date</th>\n",
              "      <th>document_create_date.1</th>\n",
              "      <th>due_in_date</th>\n",
              "      <th>invoice_currency</th>\n",
              "      <th>document type</th>\n",
              "      <th>posting_id</th>\n",
              "      <th>area_business</th>\n",
              "      <th>total_open_amount</th>\n",
              "      <th>baseline_create_date</th>\n",
              "      <th>cust_payment_terms</th>\n",
              "      <th>invoice_id</th>\n",
              "      <th>isOpen</th>\n",
              "      <th>delay</th>\n",
              "    </tr>\n",
              "  </thead>\n",
              "  <tbody>\n",
              "    <tr>\n",
              "      <th>0</th>\n",
              "      <td>0</td>\n",
              "      <td>U001</td>\n",
              "      <td>0200769623</td>\n",
              "      <td>WAL-MAR in</td>\n",
              "      <td>2020-03-26</td>\n",
              "      <td>2020.0</td>\n",
              "      <td>1.930638e+09</td>\n",
              "      <td>2020-03-11</td>\n",
              "      <td>2020-03-11</td>\n",
              "      <td>2020-03-11</td>\n",
              "      <td>2020-03-26</td>\n",
              "      <td>USD</td>\n",
              "      <td>RV</td>\n",
              "      <td>1.0</td>\n",
              "      <td>NaN</td>\n",
              "      <td>50124.60</td>\n",
              "      <td>2020-03-11</td>\n",
              "      <td>NAH4</td>\n",
              "      <td>1.930638e+09</td>\n",
              "      <td>1</td>\n",
              "      <td>0 days</td>\n",
              "    </tr>\n",
              "    <tr>\n",
              "      <th>1</th>\n",
              "      <td>1</td>\n",
              "      <td>U001</td>\n",
              "      <td>0200759878</td>\n",
              "      <td>SA</td>\n",
              "      <td>2020-04-18</td>\n",
              "      <td>2020.0</td>\n",
              "      <td>1.930730e+09</td>\n",
              "      <td>2020-04-03</td>\n",
              "      <td>2020-04-01</td>\n",
              "      <td>2020-04-03</td>\n",
              "      <td>2020-04-18</td>\n",
              "      <td>USD</td>\n",
              "      <td>RV</td>\n",
              "      <td>1.0</td>\n",
              "      <td>NaN</td>\n",
              "      <td>13603.02</td>\n",
              "      <td>2020-04-03</td>\n",
              "      <td>NAH4</td>\n",
              "      <td>1.930730e+09</td>\n",
              "      <td>1</td>\n",
              "      <td>0 days</td>\n",
              "    </tr>\n",
              "    <tr>\n",
              "      <th>2</th>\n",
              "      <td>2</td>\n",
              "      <td>U001</td>\n",
              "      <td>0200749225</td>\n",
              "      <td>SUPER  foundation</td>\n",
              "      <td>2020-04-14</td>\n",
              "      <td>2020.0</td>\n",
              "      <td>1.930718e+09</td>\n",
              "      <td>2020-03-30</td>\n",
              "      <td>2020-03-29</td>\n",
              "      <td>2020-03-30</td>\n",
              "      <td>2020-04-14</td>\n",
              "      <td>USD</td>\n",
              "      <td>RV</td>\n",
              "      <td>1.0</td>\n",
              "      <td>NaN</td>\n",
              "      <td>98963.00</td>\n",
              "      <td>2020-03-30</td>\n",
              "      <td>NAA8</td>\n",
              "      <td>1.930718e+09</td>\n",
              "      <td>1</td>\n",
              "      <td>0 days</td>\n",
              "    </tr>\n",
              "    <tr>\n",
              "      <th>3</th>\n",
              "      <td>3</td>\n",
              "      <td>U001</td>\n",
              "      <td>0200797984</td>\n",
              "      <td>PIGGLY us</td>\n",
              "      <td>2020-03-22</td>\n",
              "      <td>2020.0</td>\n",
              "      <td>1.930598e+09</td>\n",
              "      <td>2020-03-05</td>\n",
              "      <td>2020-03-04</td>\n",
              "      <td>2020-03-05</td>\n",
              "      <td>2020-03-20</td>\n",
              "      <td>USD</td>\n",
              "      <td>RV</td>\n",
              "      <td>1.0</td>\n",
              "      <td>NaN</td>\n",
              "      <td>20573.78</td>\n",
              "      <td>2020-03-05</td>\n",
              "      <td>NAA8</td>\n",
              "      <td>1.930598e+09</td>\n",
              "      <td>1</td>\n",
              "      <td>-2 days</td>\n",
              "    </tr>\n",
              "    <tr>\n",
              "      <th>4</th>\n",
              "      <td>4</td>\n",
              "      <td>U001</td>\n",
              "      <td>0200792734</td>\n",
              "      <td>MDV/ co</td>\n",
              "      <td>2020-04-21</td>\n",
              "      <td>2020.0</td>\n",
              "      <td>1.930740e+09</td>\n",
              "      <td>2020-04-03</td>\n",
              "      <td>2020-04-03</td>\n",
              "      <td>2020-04-03</td>\n",
              "      <td>2020-04-18</td>\n",
              "      <td>USD</td>\n",
              "      <td>RV</td>\n",
              "      <td>1.0</td>\n",
              "      <td>NaN</td>\n",
              "      <td>25162.58</td>\n",
              "      <td>2020-04-03</td>\n",
              "      <td>NAA8</td>\n",
              "      <td>1.930740e+09</td>\n",
              "      <td>1</td>\n",
              "      <td>-3 days</td>\n",
              "    </tr>\n",
              "  </tbody>\n",
              "</table>\n",
              "</div>"
            ],
            "text/plain": [
              "   key_0 business_code cust_number  ...    invoice_id isOpen   delay\n",
              "0      0          U001  0200769623  ...  1.930638e+09      1  0 days\n",
              "1      1          U001  0200759878  ...  1.930730e+09      1  0 days\n",
              "2      2          U001  0200749225  ...  1.930718e+09      1  0 days\n",
              "3      3          U001  0200797984  ...  1.930598e+09      1 -2 days\n",
              "4      4          U001  0200792734  ...  1.930740e+09      1 -3 days\n",
              "\n",
              "[5 rows x 21 columns]"
            ]
          },
          "metadata": {
            "tags": []
          },
          "execution_count": 110
        }
      ]
    },
    {
      "cell_type": "code",
      "metadata": {
        "colab": {
          "base_uri": "https://localhost:8080/"
        },
        "id": "cQ-APIvVw9Gf",
        "outputId": "8109836d-7fc8-49b7-a6bf-2f40ef8e96f2"
      },
      "source": [
        "#Bucketize the delay into the Ageing buckets\n",
        "predictiondf['bins'] = pd.cut(x=(pd.to_numeric(predictiondf['delay'].dt.days,downcast='integer')), bins=[-float(\"inf\"),-60,-45,-30,-15,0,15,30,45,60,float(\"inf\")])\n",
        "predictiondf.bins.value_counts()"
      ],
      "execution_count": 111,
      "outputs": [
        {
          "output_type": "execute_result",
          "data": {
            "text/plain": [
              "(-15.0, 0.0]      9632\n",
              "(15.0, 30.0]       206\n",
              "(0.0, 15.0]        142\n",
              "(-30.0, -15.0]      14\n",
              "(-45.0, -30.0]       5\n",
              "(-inf, -60.0]        1\n",
              "(60.0, inf]          0\n",
              "(45.0, 60.0]         0\n",
              "(30.0, 45.0]         0\n",
              "(-60.0, -45.0]       0\n",
              "Name: bins, dtype: int64"
            ]
          },
          "metadata": {
            "tags": []
          },
          "execution_count": 111
        }
      ]
    },
    {
      "cell_type": "code",
      "metadata": {
        "colab": {
          "base_uri": "https://localhost:8080/",
          "height": 573
        },
        "id": "d8sw-OTAx4r8",
        "outputId": "7cf78996-0412-4c92-80d6-4686bb3fa784"
      },
      "source": [
        "#view the final prediction \n",
        "predictiondf.head(10)"
      ],
      "execution_count": 112,
      "outputs": [
        {
          "output_type": "execute_result",
          "data": {
            "text/html": [
              "<div>\n",
              "<style scoped>\n",
              "    .dataframe tbody tr th:only-of-type {\n",
              "        vertical-align: middle;\n",
              "    }\n",
              "\n",
              "    .dataframe tbody tr th {\n",
              "        vertical-align: top;\n",
              "    }\n",
              "\n",
              "    .dataframe thead th {\n",
              "        text-align: right;\n",
              "    }\n",
              "</style>\n",
              "<table border=\"1\" class=\"dataframe\">\n",
              "  <thead>\n",
              "    <tr style=\"text-align: right;\">\n",
              "      <th></th>\n",
              "      <th>key_0</th>\n",
              "      <th>business_code</th>\n",
              "      <th>cust_number</th>\n",
              "      <th>name_customer</th>\n",
              "      <th>clear_date</th>\n",
              "      <th>buisness_year</th>\n",
              "      <th>doc_id</th>\n",
              "      <th>posting_date</th>\n",
              "      <th>document_create_date</th>\n",
              "      <th>document_create_date.1</th>\n",
              "      <th>due_in_date</th>\n",
              "      <th>invoice_currency</th>\n",
              "      <th>document type</th>\n",
              "      <th>posting_id</th>\n",
              "      <th>area_business</th>\n",
              "      <th>total_open_amount</th>\n",
              "      <th>baseline_create_date</th>\n",
              "      <th>cust_payment_terms</th>\n",
              "      <th>invoice_id</th>\n",
              "      <th>isOpen</th>\n",
              "      <th>delay</th>\n",
              "      <th>bins</th>\n",
              "    </tr>\n",
              "  </thead>\n",
              "  <tbody>\n",
              "    <tr>\n",
              "      <th>0</th>\n",
              "      <td>0</td>\n",
              "      <td>U001</td>\n",
              "      <td>0200769623</td>\n",
              "      <td>WAL-MAR in</td>\n",
              "      <td>2020-03-26</td>\n",
              "      <td>2020.0</td>\n",
              "      <td>1.930638e+09</td>\n",
              "      <td>2020-03-11</td>\n",
              "      <td>2020-03-11</td>\n",
              "      <td>2020-03-11</td>\n",
              "      <td>2020-03-26</td>\n",
              "      <td>USD</td>\n",
              "      <td>RV</td>\n",
              "      <td>1.0</td>\n",
              "      <td>NaN</td>\n",
              "      <td>50124.60</td>\n",
              "      <td>2020-03-11</td>\n",
              "      <td>NAH4</td>\n",
              "      <td>1.930638e+09</td>\n",
              "      <td>1</td>\n",
              "      <td>0 days</td>\n",
              "      <td>(-15.0, 0.0]</td>\n",
              "    </tr>\n",
              "    <tr>\n",
              "      <th>1</th>\n",
              "      <td>1</td>\n",
              "      <td>U001</td>\n",
              "      <td>0200759878</td>\n",
              "      <td>SA</td>\n",
              "      <td>2020-04-18</td>\n",
              "      <td>2020.0</td>\n",
              "      <td>1.930730e+09</td>\n",
              "      <td>2020-04-03</td>\n",
              "      <td>2020-04-01</td>\n",
              "      <td>2020-04-03</td>\n",
              "      <td>2020-04-18</td>\n",
              "      <td>USD</td>\n",
              "      <td>RV</td>\n",
              "      <td>1.0</td>\n",
              "      <td>NaN</td>\n",
              "      <td>13603.02</td>\n",
              "      <td>2020-04-03</td>\n",
              "      <td>NAH4</td>\n",
              "      <td>1.930730e+09</td>\n",
              "      <td>1</td>\n",
              "      <td>0 days</td>\n",
              "      <td>(-15.0, 0.0]</td>\n",
              "    </tr>\n",
              "    <tr>\n",
              "      <th>2</th>\n",
              "      <td>2</td>\n",
              "      <td>U001</td>\n",
              "      <td>0200749225</td>\n",
              "      <td>SUPER  foundation</td>\n",
              "      <td>2020-04-14</td>\n",
              "      <td>2020.0</td>\n",
              "      <td>1.930718e+09</td>\n",
              "      <td>2020-03-30</td>\n",
              "      <td>2020-03-29</td>\n",
              "      <td>2020-03-30</td>\n",
              "      <td>2020-04-14</td>\n",
              "      <td>USD</td>\n",
              "      <td>RV</td>\n",
              "      <td>1.0</td>\n",
              "      <td>NaN</td>\n",
              "      <td>98963.00</td>\n",
              "      <td>2020-03-30</td>\n",
              "      <td>NAA8</td>\n",
              "      <td>1.930718e+09</td>\n",
              "      <td>1</td>\n",
              "      <td>0 days</td>\n",
              "      <td>(-15.0, 0.0]</td>\n",
              "    </tr>\n",
              "    <tr>\n",
              "      <th>3</th>\n",
              "      <td>3</td>\n",
              "      <td>U001</td>\n",
              "      <td>0200797984</td>\n",
              "      <td>PIGGLY us</td>\n",
              "      <td>2020-03-22</td>\n",
              "      <td>2020.0</td>\n",
              "      <td>1.930598e+09</td>\n",
              "      <td>2020-03-05</td>\n",
              "      <td>2020-03-04</td>\n",
              "      <td>2020-03-05</td>\n",
              "      <td>2020-03-20</td>\n",
              "      <td>USD</td>\n",
              "      <td>RV</td>\n",
              "      <td>1.0</td>\n",
              "      <td>NaN</td>\n",
              "      <td>20573.78</td>\n",
              "      <td>2020-03-05</td>\n",
              "      <td>NAA8</td>\n",
              "      <td>1.930598e+09</td>\n",
              "      <td>1</td>\n",
              "      <td>-2 days</td>\n",
              "      <td>(-15.0, 0.0]</td>\n",
              "    </tr>\n",
              "    <tr>\n",
              "      <th>4</th>\n",
              "      <td>4</td>\n",
              "      <td>U001</td>\n",
              "      <td>0200792734</td>\n",
              "      <td>MDV/ co</td>\n",
              "      <td>2020-04-21</td>\n",
              "      <td>2020.0</td>\n",
              "      <td>1.930740e+09</td>\n",
              "      <td>2020-04-03</td>\n",
              "      <td>2020-04-03</td>\n",
              "      <td>2020-04-03</td>\n",
              "      <td>2020-04-18</td>\n",
              "      <td>USD</td>\n",
              "      <td>RV</td>\n",
              "      <td>1.0</td>\n",
              "      <td>NaN</td>\n",
              "      <td>25162.58</td>\n",
              "      <td>2020-04-03</td>\n",
              "      <td>NAA8</td>\n",
              "      <td>1.930740e+09</td>\n",
              "      <td>1</td>\n",
              "      <td>-3 days</td>\n",
              "      <td>(-15.0, 0.0]</td>\n",
              "    </tr>\n",
              "    <tr>\n",
              "      <th>5</th>\n",
              "      <td>5</td>\n",
              "      <td>U001</td>\n",
              "      <td>0200718130</td>\n",
              "      <td>SYSCO F</td>\n",
              "      <td>2020-03-19</td>\n",
              "      <td>2020.0</td>\n",
              "      <td>1.930569e+09</td>\n",
              "      <td>2020-02-28</td>\n",
              "      <td>2020-02-25</td>\n",
              "      <td>2020-02-28</td>\n",
              "      <td>2020-03-19</td>\n",
              "      <td>USD</td>\n",
              "      <td>RV</td>\n",
              "      <td>1.0</td>\n",
              "      <td>NaN</td>\n",
              "      <td>5129.79</td>\n",
              "      <td>2020-02-28</td>\n",
              "      <td>NAD1</td>\n",
              "      <td>1.930569e+09</td>\n",
              "      <td>1</td>\n",
              "      <td>0 days</td>\n",
              "      <td>(-15.0, 0.0]</td>\n",
              "    </tr>\n",
              "    <tr>\n",
              "      <th>6</th>\n",
              "      <td>6</td>\n",
              "      <td>U001</td>\n",
              "      <td>0200772670</td>\n",
              "      <td>ASSOCIAT us</td>\n",
              "      <td>2020-04-03</td>\n",
              "      <td>2020.0</td>\n",
              "      <td>1.930665e+09</td>\n",
              "      <td>2020-03-17</td>\n",
              "      <td>2020-03-17</td>\n",
              "      <td>2020-03-17</td>\n",
              "      <td>2020-04-01</td>\n",
              "      <td>USD</td>\n",
              "      <td>RV</td>\n",
              "      <td>1.0</td>\n",
              "      <td>NaN</td>\n",
              "      <td>52657.94</td>\n",
              "      <td>2020-03-17</td>\n",
              "      <td>NAU5</td>\n",
              "      <td>1.930665e+09</td>\n",
              "      <td>1</td>\n",
              "      <td>-2 days</td>\n",
              "      <td>(-15.0, 0.0]</td>\n",
              "    </tr>\n",
              "    <tr>\n",
              "      <th>7</th>\n",
              "      <td>7</td>\n",
              "      <td>U001</td>\n",
              "      <td>0200803720</td>\n",
              "      <td>DEC llc</td>\n",
              "      <td>2020-03-26</td>\n",
              "      <td>2020.0</td>\n",
              "      <td>1.930698e+09</td>\n",
              "      <td>2020-03-25</td>\n",
              "      <td>2020-03-25</td>\n",
              "      <td>2020-03-25</td>\n",
              "      <td>2020-03-26</td>\n",
              "      <td>USD</td>\n",
              "      <td>RV</td>\n",
              "      <td>1.0</td>\n",
              "      <td>NaN</td>\n",
              "      <td>13504.01</td>\n",
              "      <td>2020-03-16</td>\n",
              "      <td>NAM2</td>\n",
              "      <td>1.930698e+09</td>\n",
              "      <td>1</td>\n",
              "      <td>0 days</td>\n",
              "      <td>(-15.0, 0.0]</td>\n",
              "    </tr>\n",
              "    <tr>\n",
              "      <th>8</th>\n",
              "      <td>8</td>\n",
              "      <td>U001</td>\n",
              "      <td>0200759878</td>\n",
              "      <td>SA llc</td>\n",
              "      <td>2020-05-01</td>\n",
              "      <td>2020.0</td>\n",
              "      <td>1.930794e+09</td>\n",
              "      <td>2020-04-16</td>\n",
              "      <td>2020-04-16</td>\n",
              "      <td>2020-04-16</td>\n",
              "      <td>2020-05-01</td>\n",
              "      <td>USD</td>\n",
              "      <td>RV</td>\n",
              "      <td>1.0</td>\n",
              "      <td>NaN</td>\n",
              "      <td>6243.02</td>\n",
              "      <td>2020-04-16</td>\n",
              "      <td>NAH4</td>\n",
              "      <td>1.930794e+09</td>\n",
              "      <td>1</td>\n",
              "      <td>0 days</td>\n",
              "      <td>(-15.0, 0.0]</td>\n",
              "    </tr>\n",
              "    <tr>\n",
              "      <th>9</th>\n",
              "      <td>9</td>\n",
              "      <td>U001</td>\n",
              "      <td>0200742791</td>\n",
              "      <td>QUI corp</td>\n",
              "      <td>2020-03-29</td>\n",
              "      <td>2020.0</td>\n",
              "      <td>1.930606e+09</td>\n",
              "      <td>2020-03-11</td>\n",
              "      <td>2020-03-05</td>\n",
              "      <td>2020-03-11</td>\n",
              "      <td>2020-03-26</td>\n",
              "      <td>USD</td>\n",
              "      <td>RV</td>\n",
              "      <td>1.0</td>\n",
              "      <td>NaN</td>\n",
              "      <td>24822.86</td>\n",
              "      <td>2020-03-11</td>\n",
              "      <td>NAA8</td>\n",
              "      <td>1.930606e+09</td>\n",
              "      <td>1</td>\n",
              "      <td>-3 days</td>\n",
              "      <td>(-15.0, 0.0]</td>\n",
              "    </tr>\n",
              "  </tbody>\n",
              "</table>\n",
              "</div>"
            ],
            "text/plain": [
              "   key_0 business_code cust_number  ... isOpen   delay          bins\n",
              "0      0          U001  0200769623  ...      1  0 days  (-15.0, 0.0]\n",
              "1      1          U001  0200759878  ...      1  0 days  (-15.0, 0.0]\n",
              "2      2          U001  0200749225  ...      1  0 days  (-15.0, 0.0]\n",
              "3      3          U001  0200797984  ...      1 -2 days  (-15.0, 0.0]\n",
              "4      4          U001  0200792734  ...      1 -3 days  (-15.0, 0.0]\n",
              "5      5          U001  0200718130  ...      1  0 days  (-15.0, 0.0]\n",
              "6      6          U001  0200772670  ...      1 -2 days  (-15.0, 0.0]\n",
              "7      7          U001  0200803720  ...      1  0 days  (-15.0, 0.0]\n",
              "8      8          U001  0200759878  ...      1  0 days  (-15.0, 0.0]\n",
              "9      9          U001  0200742791  ...      1 -3 days  (-15.0, 0.0]\n",
              "\n",
              "[10 rows x 22 columns]"
            ]
          },
          "metadata": {
            "tags": []
          },
          "execution_count": 112
        }
      ]
    },
    {
      "cell_type": "code",
      "metadata": {
        "id": "iv3DcUpl-9w_"
      },
      "source": [
        "#Converting the final dataframe to a pickle file\n",
        "predictiondf=predictiondf.iloc[:,1:]\n",
        "predictiondf.to_pickle(\"predicted_data.pkl\")"
      ],
      "execution_count": 113,
      "outputs": []
    },
    {
      "cell_type": "code",
      "metadata": {
        "id": "4akwqSe1qVK8"
      },
      "source": [
        ""
      ],
      "execution_count": 113,
      "outputs": []
    }
  ]
}